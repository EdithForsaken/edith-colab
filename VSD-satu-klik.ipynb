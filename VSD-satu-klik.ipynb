{
 "cells": [
    {
      "cell_type": "markdown",
      "metadata": {
        "id": "view-in-github"
      },
      "source": [
    "[![Open in SageMaker Studio Lab](https://studiolab.sagemaker.aws/studiolab.svg)](https://studiolab.sagemaker.aws/import/github/vorstcavry/V-Stable-Diffusion/blob/main/VSD-satu-klik.ipynb)"
      ]
    },
  {
   "cell_type": "markdown",
   "id": "2aa6f2dc-6044-4506-ac8a-9e09c756c4f2",
   "metadata": {},
   "source": [
    "<CENTER><font color=\"#FFD700\">V Stable Diffusion</font> <center/>\n",
    "\n",
    "<img src=\"https://user-images.githubusercontent.com/73097560/115834477-dbab4500-a447-11eb-908a-139a6edaec5c.gif\" width=\"800\" height=\"18\">\n",
    "<center>    \n",
    "*Bagi yang mau support saya bisa menuju Saweria, KO-FI dan Trakteer dibawah ini*\n",
    "<center>\n",
    "*For those who want to support me, you can go to Saweria, KO-FI and Trakteer below*\n",
    "<center/>\n",
    "<center><a href=\"https://saweria.co/VorstCavry\"><img alt=\"Saweria\" src=\"https://img.shields.io/badge/Saweria-7B3F00?style=for-the-badge&logo=ko-fi&logoColor=white\"/></a> <a href=\"https://ko-fi.com/vorstcavry\"><img alt=\"KO-FI\" src=\"https://img.shields.io/badge/Ko--fi-F16061?style=for-the-badge&logo=ko-fi&logoColor=white \"/></a> <a href=\"https://trakteer.id/vorstcavry/tip\"><img alt=\"YOUTUBE\" src=\"https://img.shields.io/badge/trakteer-F16061?style=for-the-badge&logo=buy-me-a-coffee&logoColor=white\"/></a><a> <a href=\"https://www.youtube.com/@remajapekalongan\"><img alt=\"YOUTUBE\" src=\"https://img.shields.io/badge/YouTube-%23FF0000?style=for-the-badge&logo=YouTube&logoColor=white\"/></a>\n",
    "<a href=\"https://www.paypal.com/paypalme/vorstcavry?country.x=ID&locale.x=id_ID\"><img alt=\"PAYPAL\" src=\"https://img.shields.io/badge/PayPal-00457C?style=for-the-badge&logo=paypal&logoColor=white\"/></a>\n",
    "<a href=\"https://www.instagram.com/vorst_cavry/\"><img alt=\"INSTAGRAM\" src=\"https://img.shields.io/badge/Instagram-E4405F?style=for-the-badge&logo=instagram&logoColor=white\"/></a> <a href=\"https://visitorbadge.io/status?path=https%3A%2F%2Fgithub.com%2Fvorstcavry\"><img src=\"https://api.visitorbadge.io/api/visitors?path=https%3A%2F%2Fgithub.com%2Fvorstcavry&label=VISITORS&countColor=%23263759&labelStyle=none\" /></a><center/> <a href=\"https://discord.gg/fg9kvMqUmD\"><img alt=\"Discord\" src=\"https://img.shields.io/badge/Discord-%235865F2.svg?style=for-the-badge&logo=discord&logoColor=white\"/></a>"
   ]
  },
  {
   "cell_type": "markdown",
   "id": "ce5dfecb-019f-4b91-9647-dac89eec257a",
   "metadata": {},
   "source": [
    "### Jalankan Ini di Mode CPU"
   ]
  },
  {
   "cell_type": "code",
   "execution_count": null,
   "id": "e0be4abc-863d-4791-8a41-5b1d4a7a84db",
   "metadata": {
    "tags": []
   },
   "outputs": [],
   "source": [
    "from IPython.display import clear_output\n",
    "!wget https://raw.githubusercontent.com/vorstcavry/V-Stable-Diffusion/https/github.com/vorstcavry/Support-me.ipynb -O /home/studio-lab-user/Support-me.ipynb\n",
    "clear_output(wait=True)\n",
    "%cd /home/studio-lab-user\n",
    "%run Support-me.ipynb\n",
    "!wget https://raw.githubusercontent.com/vorstcavry/V-Stable-Diffusion/https/github.com/vorstcavry/V_Stable_diffusion.ipynb -O /home/studio-lab-user/V_Stable_diffusion.ipynb\n",
    "%cd /home/studio-lab-user\n",
    "%run V_Stable_diffusion.ipynb\n",
    "%cd /home/studio-lab-user\n",
    "%run Support-me.ipynb"
   ]
  },
  {
   "cell_type": "markdown",
   "id": "c7e78d3b-5256-4101-973d-da212f09b7be",
   "metadata": {},
   "source": [
    "### Jalankan V Stable Diffusion di Mode GPU"
   ]
  },
  {
   "cell_type": "code",
   "execution_count": null,
   "id": "5be8e165-a112-4c25-9440-d2645d0a7a04",
   "metadata": {},
   "outputs": [],
   "source": [
    "from IPython.display import clear_output\n",
    "%cd /home/studio-lab-user\n",
    "clear_output(wait=True)\n",
    "%run Support-me.ipynb\n",
    "%cd /home/studio-lab-user/vorst-cavry\n",
    "!python launch.py --ngrok [Masukan-Token-disini] --listen --enable-insecure-extension-access --share --disable-safe-unpickle --theme dark --no-hashing --xformers\n",
    "#--hf-token-out [Masukan-Token-disini]"
   ]
  },
  {
   "cell_type": "markdown",
   "id": "4aad3124-01b5-48ad-87c6-f03e1eb6863a",
   "metadata": {},
   "source": [
    "![Left to Right](https://drive.google.com/uc?export=view&id=1oV6czwnahiyCrzMKWGqNc_HprJ5TuoQv)\n",
    "<center>  "
   ]
  },
  {
   "cell_type": "markdown",
   "id": "db846412-bbfe-4c50-926a-3f14505944a5",
   "metadata": {},
   "source": [
    "### Hapus File Stable diffusion, tmp folder dan cache"
   ]
  },
  {
   "cell_type": "code",
   "execution_count": null,
   "id": "573f8eb4-6d84-422b-8cf1-a54aebca6eac",
   "metadata": {},
   "outputs": [],
   "source": [
    "# Hapus File Stable diffusion, tmp folder dan cache\n",
    "\n",
    "!rm -rf /home/studio-lab-user/vorst-cavry\n",
    "!rm -rf /home/studio-lab-user/tmp\n",
    "!rm -r /home/studio-lab-user/.cache"
   ]
  }
 ],
 "metadata": {
  "kernelspec": {
   "display_name": "default:Python",
   "language": "python",
   "name": "conda-env-default-py"
  },
  "language_info": {
   "codemirror_mode": {
    "name": "ipython",
    "version": 3
   },
   "file_extension": ".py",
   "mimetype": "text/x-python",
   "name": "python",
   "nbconvert_exporter": "python",
   "pygments_lexer": "ipython3",
   "version": "3.10.12"
  }
 },
 "nbformat": 4,
 "nbformat_minor": 5
}
