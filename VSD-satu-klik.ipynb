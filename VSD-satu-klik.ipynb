{
  "cells": [
    {
      "cell_type": "markdown",
      "id": "63669c5d-f17d-400f-8e26-198298f15916",
      "metadata": {
        "id": "63669c5d-f17d-400f-8e26-198298f15916"
      },
      "source": [
        "[![Open in SageMaker Studio Lab](https://studiolab.sagemaker.aws/studiolab.svg)](https://studiolab.sagemaker.aws/import/github.com/EdithForsaken/edith-colab/blob/main/VSD-satu-klik.ipynb)  [![](https://img.shields.io/static/v1?message=Open%20in%20Colab&logo=googlecolab&labelColor=5c5c5c&color=0f80c1&label=%20&style=flat)](https://colab.research.google.com/github/EdithForsaken/edith-colab/blob/main/VSD_satu_klik.ipynb) [![Github](https://badgen.net/badge/icon/GitHub?icon=github&label=Vorst%20Cavry)](https://github.com/vorstcavry) [![Hugging Face Spaces](https://img.shields.io/badge/%F0%9F%A4%97%20Hugging%20Face-Spaces-blue)](https://huggingface.co/spaces/vorstcavry/stable-diffusion-webui) [![Creator](https://img.shields.io/badge/created%20by-Remaja%20Pekalongan-1f425f.svg)](https://www.youtube.com/@remajapekalongan)"
      ]
    },
    {
      "cell_type": "markdown",
      "id": "02cbd633-de6e-4587-9a23-dc91db52b356",
      "metadata": {
        "id": "02cbd633-de6e-4587-9a23-dc91db52b356"
      },
      "source": [
        "<center>\n",
        "\n",
        "<font size=\"5\"><font color=\"#FFD700\">**VSD SATU KLIK**</font>\n",
        "<center>\n",
        "\n",
        "<img src=\"https://user-images.githubusercontent.com/73097560/115834477-dbab4500-a447-11eb-908a-139a6edaec5c.gif\" width=\"800\" height=\"18\">\n",
        "\n",
        "\n",
        "<center>\n",
        "\n",
        "*Bagi yang mau support saya bisa menuju Saweria, KO-FI dan Trakteer dibawah ini*\n",
        "\n",
        "*For those who want to support me, you can go to Saweria, KO-FI and Trakteer below*\n",
        "<center>\n",
        "\n",
        "<center><a href=\"https://saweria.co/VorstCavry\"><img alt=\"Saweria\" src=\"https://img.shields.io/badge/Saweria-7B3F00?style=for-the-badge&logo=ko-fi&logoColor=white\"/></a> <a href=\"https://ko-fi.com/vorstcavry\"><img alt=\"KO-FI\" src=\"https://img.shields.io/badge/Ko--fi-F16061?style=for-the-badge&logo=ko-fi&logoColor=white \"/></a> <a href=\"https://trakteer.id/vorstcavry/tip\"><img alt=\"YOUTUBE\" src=\"https://img.shields.io/badge/trakteer-F16061?style=for-the-badge&logo=buy-me-a-coffee&logoColor=white\"/></a><a> <a href=\"https://www.youtube.com/@remajapekalongan\"><img alt=\"YOUTUBE\" src=\"https://img.shields.io/badge/YouTube-%23FF0000?style=for-the-badge&logo=YouTube&logoColor=white\"/></a>\n",
        "<a href=\"https://www.paypal.com/paypalme/vorstcavry?country.x=ID&locale.x=id_ID\"><img alt=\"PAYPAL\" src=\"https://img.shields.io/badge/PayPal-00457C?style=for-the-badge&logo=paypal&logoColor=white\"/></a>\n",
        "<a href=\"https://www.instagram.com/vorst_cavry/\"><img alt=\"INSTAGRAM\" src=\"https://img.shields.io/badge/Instagram-E4405F?style=for-the-badge&logo=instagram&logoColor=white\"/></a> <a href=\"https://visitorbadge.io/status?path=https%3A%2F%2Fgithub.com%2Fvorstcavry\"><img src=\"https://api.visitorbadge.io/api/visitors?path=https%3A%2F%2Fgithub.com%2Fvorstcavry&label=VISITORS&countColor=%23263759&labelStyle=none\" /></a><center/> <a href=\"https://discord.gg/fg9kvMqUmD\"><img alt=\"Discord\" src=\"https://img.shields.io/badge/Discord-%235865F2.svg?style=for-the-badge&logo=discord&logoColor=white\"/></a></center>"
      ]
    },
    {
      "cell_type": "markdown",
      "id": "5bb37d43-a83a-4fb1-9e3f-f6ced5cb5069",
      "metadata": {
        "id": "5bb37d43-a83a-4fb1-9e3f-f6ced5cb5069"
      },
      "source": [
        "![Left to Right](https://drive.google.com/uc?export=view&id=1oV6czwnahiyCrzMKWGqNc_HprJ5TuoQv)\n",
        "<center>  "
      ]
    },
    {
      "cell_type": "markdown",
      "id": "035720a6-dcbd-48da-8fc9-d47fda446831",
      "metadata": {
        "id": "035720a6-dcbd-48da-8fc9-d47fda446831"
      },
      "source": [
        "<font size=\"5\"><font color=\"#00F090\">**Jalankan Ini di Mode CPU**</font>"
      ]
    },
    {
      "cell_type": "code",
      "execution_count": null,
      "id": "e0be4abc-863d-4791-8a41-5b1d4a7a84db",
      "metadata": {
        "tags": [],
        "id": "e0be4abc-863d-4791-8a41-5b1d4a7a84db"
      },
      "outputs": [],
      "source": [
        "from IPython.display import clear_output\n",
        "!wget https://raw.githubusercontent.com/vorstcavry/V-Stable-Diffusion/https/github.com/vorstcavry/Support-me.ipynb -O /home/studio-lab-user/Support-me.ipynb\n",
        "clear_output(wait=True)\n",
        "%cd /home/studio-lab-user\n",
        "%run Support-me.ipynb\n",
        "!wget https://raw.githubusercontent.com/vorstcavry/V-Stable-Diffusion/https/github.com/vorstcavry/V_Stable_diffusion.ipynb -O /home/studio-lab-user/V_Stable_diffusion.ipynb\n",
        "%cd /home/studio-lab-user\n",
        "%run V_Stable_diffusion.ipynb\n",
        "%cd /home/studio-lab-user\n",
        "%run Support-me.ipynb"
      ]
    },
    {
      "cell_type": "markdown",
      "id": "ed00c62e-8a3f-4710-9b07-2da119d33172",
      "metadata": {
        "id": "ed00c62e-8a3f-4710-9b07-2da119d33172"
      },
      "source": [
        "<font size=\"5\"><font color=\"#00F090\">**Jalankan V Stable Diffusion di Mode GPU**</font>\n",
        "\n",
        "| <font size=\"2\">[Token-Ngrok] | [Token-Huggingface]</font> |\n",
        "\n",
        "[Token-Ngrok]:https://dashboard.ngrok.com/get-started/your-authtoken\n",
        "[Token-Huggingface]:https://huggingface.co/settings/tokens"
      ]
    },
    {
      "cell_type": "code",
      "execution_count": null,
      "id": "5be8e165-a112-4c25-9440-d2645d0a7a04",
      "metadata": {
        "id": "5be8e165-a112-4c25-9440-d2645d0a7a04"
      },
      "outputs": [],
      "source": [
        "from IPython.display import clear_output\n",
        "%cd /home/studio-lab-user\n",
        "clear_output(wait=True)\n",
        "%run Support-me.ipynb\n",
        "%cd /home/studio-lab-user/vorst-cavry\n",
        "!python launch.py --ngrok [Masukan-Token-disini] --listen --enable-insecure-extension-access --share --disable-safe-unpickle --theme dark --no-hashing --xformers\n",
        "#--hf-token-out [Masukan-Token-disini]"
      ]
    },
    {
      "cell_type": "markdown",
      "id": "a22311d0-7c9a-4d0d-95dc-f1a489af0a81",
      "metadata": {
        "id": "a22311d0-7c9a-4d0d-95dc-f1a489af0a81"
      },
      "source": [
        "![Left to Right](https://drive.google.com/uc?export=view&id=1oV6czwnahiyCrzMKWGqNc_HprJ5TuoQv)\n",
        "<center>  "
      ]
    },
    {
      "cell_type": "markdown",
      "id": "43342b91-3e44-4914-9837-f5e18c2d3d8c",
      "metadata": {
        "id": "43342b91-3e44-4914-9837-f5e18c2d3d8c"
      },
      "source": [
        "<font size=\"5\"><font color=\"#00F090\">**Hapus File Stable diffusion, tmp folder dan cache**</font>"
      ]
    },
    {
      "cell_type": "code",
      "execution_count": null,
      "id": "573f8eb4-6d84-422b-8cf1-a54aebca6eac",
      "metadata": {
        "id": "573f8eb4-6d84-422b-8cf1-a54aebca6eac"
      },
      "outputs": [],
      "source": [
        "# Hapus File Stable diffusion, tmp folder dan cache\n",
        "\n",
        "!rm -rf /home/studio-lab-user/vorst-cavry\n",
        "!rm -rf /home/studio-lab-user/tmp\n",
        "!rm -r /home/studio-lab-user/.cache"
      ]
    }
  ],
  "metadata": {
    "kernelspec": {
      "display_name": "default:Python",
      "language": "python",
      "name": "conda-env-default-py"
    },
    "language_info": {
      "codemirror_mode": {
        "name": "ipython",
        "version": 3
      },
      "file_extension": ".py",
      "mimetype": "text/x-python",
      "name": "python",
      "nbconvert_exporter": "python",
      "pygments_lexer": "ipython3",
      "version": "3.10.12"
    },
    "colab": {
      "provenance": []
    }
  },
  "nbformat": 4,
  "nbformat_minor": 5
}