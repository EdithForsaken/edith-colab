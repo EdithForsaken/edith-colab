{
 "cells": [
  {
   "cell_type": "markdown",
   "id": "15956afc-bcdd-41fb-9151-9715b2e424e0",
   "metadata": {
    "id": "e321bd29-da48-4f99-9b17-712e0b56d7b0"
   },
   "source": [
    "`Terakhir diperbarui : 12 Januari 2024 | 15.40 WIB INDONESIA`\n",
    "\n",
    "[![Open in SageMaker Studio Lab](https://studiolab.sagemaker.aws/studiolab.svg)](https://studiolab.sagemaker.aws/import/github.com/EdithForsaken/edith-colab/blob/main/VSD-satu-klik.ipynb)   [![Github](https://badgen.net/badge/icon/GitHub?icon=github&label=Vorst%20Cavry)](https://github.com/vorstcavry)   [![Hugging Face Spaces](https://img.shields.io/badge/%F0%9F%A4%97%20Hugging%20Face-Spaces-blue)](https://huggingface.co/spaces/vorstcavry/stable-diffusion-webui)   [![Modified](https://img.shields.io/badge/Modified%20by-Remaja%20Pekalongan-1f425f.svg)](https://www.youtube.com/@remajapekalongan)   [![Creator](https://img.shields.io/badge/Original%20Source-Anxety%20Solo-1f425f.svg)](https://github.com/anxety-solo)\n",
    "<CENTER><b><font size=\"5\"><font color=\"#FFD700\">V Stable Diffusion</font></b> <center/>\n",
    "\n",
    "<img src=\"https://user-images.githubusercontent.com/73097560/115834477-dbab4500-a447-11eb-908a-139a6edaec5c.gif\" width=\"800\" height=\"18\">\n",
    "    \n",
    "    \n",
    "<center>    \n",
    "Bagi yang mau support saya bisa menuju Saweria, KO-FI dan Trakteer dibawah ini\n",
    "<center>\n",
    "For those who want to support me, you can go to Saweria, KO-FI and Trakteer below\n",
    "<center/>\n",
    "<center><a href=\"https://saweria.co/VorstCavry\"><img alt=\"Saweria\" src=\"https://img.shields.io/badge/Saweria-7B3F00?style=for-the-badge&logo=ko-fi&logoColor=white\"/></a> <a href=\"https://ko-fi.com/vorstcavry\"><img alt=\"KO-FI\" src=\"https://img.shields.io/badge/Ko--fi-F16061?style=for-the-badge&logo=ko-fi&logoColor=white \"/></a> <a href=\"https://trakteer.id/vorstcavry/tip\"><img alt=\"YOUTUBE\" src=\"https://img.shields.io/badge/trakteer-F16061?style=for-the-badge&logo=buy-me-a-coffee&logoColor=white\"/></a><a> <a href=\"https://www.youtube.com/@remajapekalongan\"><img alt=\"YOUTUBE\" src=\"https://img.shields.io/badge/YouTube-%23FF0000?style=for-the-badge&logo=YouTube&logoColor=white\"/></a>\n",
    "<a href=\"https://www.paypal.com/paypalme/vorstcavry?country.x=ID&locale.x=id_ID\"><img alt=\"PAYPAL\" src=\"https://img.shields.io/badge/PayPal-00457C?style=for-the-badge&logo=paypal&logoColor=white\"/></a>\n",
    "<a href=\"https://www.instagram.com/vorst_cavry/\"><img alt=\"INSTAGRAM\" src=\"https://img.shields.io/badge/Instagram-E4405F?style=for-the-badge&logo=instagram&logoColor=white\"/></a> <a href=\"https://visitorbadge.io/status?path=https%3A%2F%2Fgithub.com%2Fvorstcavry\"><img src=\"https://api.visitorbadge.io/api/visitors?path=https%3A%2F%2Fgithub.com%2Fvorstcavry&label=VISITORS&countColor=%23263759&labelStyle=none\" /></a><center/> <a href=\"https://discord.gg/fg9kvMqUmD\"><img alt=\"Discord\" src=\"https://img.shields.io/badge/Discord-%235865F2.svg?style=for-the-badge&logo=discord&logoColor=white\"/></a>"
   ]
  },
  {
   "cell_type": "markdown",
   "id": "351ddcbd-cdfe-48ee-8c49-1dcc7a178451",
   "metadata": {
    "id": "61d9834b-de5d-46f7-b256-918705e3f459",
    "tags": []
   },
   "source": [
    "# <font size=\"5\"><font color=\"#00F090\">**Mempersiapkan Data Stable Diffusion**</font>\n",
    "\n",
    "| <font size=\"2\">[Token-Ngrok] | [Token-API-Omniinfer] | [Civitai]</font> |\n",
    "\n",
    "[Token-Ngrok]:https://dashboard.ngrok.com/get-started/your-authtoken\n",
    "[Token-API-Omniinfer]:https://omniinfer.io/dashboard/key\n",
    "[Civitai]:https://civitai.com/"
   ]
  },
  {
   "cell_type": "code",
   "execution_count": null,
   "id": "d59bd40d-3308-41a8-b5ac-bde23389a8bf",
   "metadata": {
    "tags": []
   },
   "outputs": [],
   "source": [
    "from IPython.display import clear_output\n",
    "!git clone https://github.com/vorstcavry/T\n",
    "%cd /home/studio-lab-user/T/T\n",
    "clear_output(wait=True)\n",
    "%run T1.ipynb\n"
   ]
  },
  {
   "cell_type": "markdown",
   "id": "fb684668-6471-4a92-9dd6-65705c9a18d7",
   "metadata": {
    "id": "01c1270c-c748-421f-a28f-d11fca5f4c54",
    "tags": []
   },
   "source": [
    "# <font size=\"5\"><font color=\"#00F090\">**Menginstall Bahan Stable Diffusion**</font>"
   ]
  },
  {
   "cell_type": "code",
   "execution_count": null,
   "id": "0199cffd-dfcd-4ec6-971f-d5a159dc76a6",
   "metadata": {
    "tags": []
   },
   "outputs": [],
   "source": [
    "from IPython.display import clear_output\n",
    "%cd /home/studio-lab-user/T/T\n",
    "clear_output(wait=True)\n",
    "%run T2.ipynb"
   ]
  },
  {
   "cell_type": "markdown",
   "id": "3678a420-16dc-47c8-a88f-99384211a127",
   "metadata": {
    "id": "502582a4-071d-4249-a1b0-9183e7f0d142",
    "tags": []
   },
   "source": [
    "# <font size=\"5\"><font color=\"#00F090\">**Menjalankan Stable Diffusion**</font>"
   ]
  },
  {
   "cell_type": "code",
   "execution_count": null,
   "id": "c0b55b4e-cb07-4b08-9d0e-fc7e6752e4c4",
   "metadata": {
    "tags": []
   },
   "outputs": [],
   "source": [
    "from IPython.display import clear_output\n",
    "%cd /home/studio-lab-user/T\n",
    "clear_output(wait=True)\n",
    "%run T3.ipynb"
   ]
  },
  {
   "cell_type": "markdown",
   "id": "8505144f-b2ad-4330-8608-3c0c12395732",
   "metadata": {
    "jp-MarkdownHeadingCollapsed": true,
    "tags": []
   },
   "source": [
    "#  <font size=\"5\"><font color=\"#00F090\">**MENU TAMBAHAN**</font>"
   ]
  },
  {
   "cell_type": "markdown",
   "id": "d9bf6bf0-6b65-4397-8cea-b2bbac1048f0",
   "metadata": {
    "tags": []
   },
   "source": [
    "##  <font size=\"4\"><font color=\"#00F090\">**Restore Folder Sampah**</font>"
   ]
  },
  {
   "cell_type": "code",
   "execution_count": null,
   "id": "b81db8d6-81b7-4110-a957-3122befe5925",
   "metadata": {},
   "outputs": [],
   "source": [
    "\n",
    "print(\"\\n\\033[92m➤ Mempersiapkan folder 🗑️\\033[97m\")\n",
    "!rm -rf /home/studio-lab-user/content/sdw/models/Stable-diffusion/tmp_models\n",
    "!rm -rf /home/studio-lab-user/content/sdw/models/Lora/tmp_Lora\n",
    "!rm -rf /home/studio-lab-user/content/sdw/models/tmp_VAE\n",
    "!ln -vs /tmp ~/tmp\n",
    "!ln -vs /tmp/models /home/studio-lab-user/content/sdw/models/Stable-diffusion/tmp_models\n",
    "!ln -vs /tmp/Lora /home/studio-lab-user/content/sdw/models/Lora/tmp_Lora\n",
    "!ln -vs /tmp/VAE /home/studio-lab-user/content/sdw/models/VAE/tmp_VAE\n",
    "\n",
    "!mkdir -p /tmp/models\n",
    "!mkdir -p /tmp/Lora\n",
    "!mkdir -p /tmp/VAE\n"
   ]
  },
  {
   "cell_type": "markdown",
   "id": "5f95aea4-d06f-4b0c-9a96-1e4135f2e10d",
   "metadata": {
    "tags": []
   },
   "source": [
    "##  <font size=\"4\"><font color=\"#00F090\">**Install Full ControlNet**</font>"
   ]
  },
  {
   "cell_type": "code",
   "execution_count": null,
   "id": "9a5e56f0-47fd-4427-9949-f856d98b6f3a",
   "metadata": {
    "tags": []
   },
   "outputs": [],
   "source": [
    "!rm -rd /home/studio-lab-user/content/sdw/extensions/sd-webui-controlnet/models\n",
    "\n",
    "!ln -vs /tmp/controlnet_models /home/studio-lab-user/content/sdw/extensions/sd-webui-controlnet/models\n",
    "!mkdir -p /tmp/controlnet_models\n",
    "%cd /home/studio-lab-user/content/sdw/extensions/sd-webui-controlnet/models\n",
    "\n",
    "!aria2c --console-log-level=error -c -x 16 -s 16 -k 1M https://huggingface.co/ckpt/ControlNet-v1-1/resolve/main/control_v11e_sd15_ip2p_fp16.safetensors             -o control_v11e_sd15_ip2p_fp16.safetensors\n",
    "!aria2c --console-log-level=error -c -x 16 -s 16 -k 1M https://huggingface.co/ckpt/ControlNet-v1-1/resolve/main/control_v11e_sd15_shuffle_fp16.safetensors          -o control_v11e_sd15_shuffle_fp16.safetensors\n",
    "!aria2c --console-log-level=error -c -x 16 -s 16 -k 1M https://huggingface.co/ckpt/ControlNet-v1-1/resolve/main/control_v11p_sd15_canny_fp16.safetensors            -o control_v11p_sd15_canny_fp16.safetensors\n",
    "!aria2c --console-log-level=error -c -x 16 -s 16 -k 1M https://huggingface.co/ckpt/ControlNet-v1-1/resolve/main/control_v11f1p_sd15_depth_fp16.safetensors          -o control_v11f1p_sd15_depth_fp16.safetensors\n",
    "!aria2c --console-log-level=error -c -x 16 -s 16 -k 1M https://huggingface.co/ckpt/ControlNet-v1-1/resolve/main/control_v11p_sd15_inpaint_fp16.safetensors          -o control_v11p_sd15_inpaint_fp16.safetensors\n",
    "!aria2c --console-log-level=error -c -x 16 -s 16 -k 1M https://huggingface.co/ckpt/ControlNet-v1-1/resolve/main/control_v11p_sd15_lineart_fp16.safetensors          -o control_v11p_sd15_lineart_fp16.safetensors\n",
    "!aria2c --console-log-level=error -c -x 16 -s 16 -k 1M https://huggingface.co/ckpt/ControlNet-v1-1/resolve/main/control_v11p_sd15_mlsd_fp16.safetensors             -o control_v11p_sd15_mlsd_fp16.safetensors\n",
    "!aria2c --console-log-level=error -c -x 16 -s 16 -k 1M https://huggingface.co/ckpt/ControlNet-v1-1/resolve/main/control_v11p_sd15_normalbae_fp16.safetensors        -o control_v11p_sd15_normalbae_fp16.safetensors\n",
    "!aria2c --console-log-level=error -c -x 16 -s 16 -k 1M https://huggingface.co/ckpt/ControlNet-v1-1/resolve/main/control_v11p_sd15_openpose_fp16.safetensors         -o control_v11p_sd15_openpose_fp16.safetensors\n",
    "!aria2c --console-log-level=error -c -x 16 -s 16 -k 1M https://huggingface.co/ckpt/ControlNet-v1-1/resolve/main/control_v11p_sd15_scribble_fp16.safetensors         -o control_v11p_sd15_scribble_fp16.safetensors\n",
    "!aria2c --console-log-level=error -c -x 16 -s 16 -k 1M https://huggingface.co/ckpt/ControlNet-v1-1/resolve/main/control_v11p_sd15_seg_fp16.safetensors              -o control_v11p_sd15_seg_fp16.safetensors\n",
    "!aria2c --console-log-level=error -c -x 16 -s 16 -k 1M https://huggingface.co/ckpt/ControlNet-v1-1/resolve/main/control_v11p_sd15_softedge_fp16.safetensors         -o control_v11p_sd15_softedge_fp16.safetensors\n",
    "!aria2c --console-log-level=error -c -x 16 -s 16 -k 1M https://huggingface.co/ckpt/ControlNet-v1-1/resolve/main/control_v11p_sd15s2_lineart_anime_fp16.safetensors  -o control_v11p_sd15s2_lineart_anime_fp16.safetensors\n",
    "!aria2c --console-log-level=error -c -x 16 -s 16 -k 1M https://huggingface.co/ckpt/ControlNet-v1-1/resolve/main/control_v11f1e_sd15_tile_fp16.safetensors           -o control_v11f1e_sd15_tile_fp16.safetensors\n",
    "!aria2c --console-log-level=error -c -x 16 -s 16 -k 1M https://huggingface.co/ckpt/ControlNet-v1-1/raw/main/control_v11e_sd15_ip2p_fp16.yaml                        -o control_v11e_sd15_ip2p_fp16.yaml\n",
    "!aria2c --console-log-level=error -c -x 16 -s 16 -k 1M https://huggingface.co/ckpt/ControlNet-v1-1/raw/main/control_v11e_sd15_shuffle_fp16.yaml                     -o control_v11e_sd15_shuffle_fp16.yaml\n",
    "!aria2c --console-log-level=error -c -x 16 -s 16 -k 1M https://huggingface.co/ckpt/ControlNet-v1-1/raw/main/control_v11p_sd15_canny_fp16.yaml                       -o control_v11p_sd15_canny_fp16.yaml\n",
    "!aria2c --console-log-level=error -c -x 16 -s 16 -k 1M https://huggingface.co/ckpt/ControlNet-v1-1/raw/main/control_v11f1p_sd15_depth_fp16.yaml                     -o control_v11f1p_sd15_depth_fp16.yaml\n",
    "!aria2c --console-log-level=error -c -x 16 -s 16 -k 1M https://huggingface.co/ckpt/ControlNet-v1-1/raw/main/control_v11p_sd15_inpaint_fp16.yaml                     -o control_v11p_sd15_inpaint_fp16.yaml\n",
    "!aria2c --console-log-level=error -c -x 16 -s 16 -k 1M https://huggingface.co/ckpt/ControlNet-v1-1/raw/main/control_v11p_sd15_lineart_fp16.yaml                     -o control_v11p_sd15_lineart_fp16.yaml\n",
    "!aria2c --console-log-level=error -c -x 16 -s 16 -k 1M https://huggingface.co/ckpt/ControlNet-v1-1/raw/main/control_v11p_sd15_mlsd_fp16.yaml                        -o control_v11p_sd15_mlsd_fp16.yaml\n",
    "!aria2c --console-log-level=error -c -x 16 -s 16 -k 1M https://huggingface.co/ckpt/ControlNet-v1-1/raw/main/control_v11p_sd15_normalbae_fp16.yaml                   -o control_v11p_sd15_normalbae_fp16.yaml\n",
    "!aria2c --console-log-level=error -c -x 16 -s 16 -k 1M https://huggingface.co/ckpt/ControlNet-v1-1/raw/main/control_v11p_sd15_openpose_fp16.yaml                    -o control_v11p_sd15_openpose_fp16.yaml\n",
    "!aria2c --console-log-level=error -c -x 16 -s 16 -k 1M https://huggingface.co/ckpt/ControlNet-v1-1/raw/main/control_v11p_sd15_scribble_fp16.yaml                    -o control_v11p_sd15_scribble_fp16.yaml\n",
    "!aria2c --console-log-level=error -c -x 16 -s 16 -k 1M https://huggingface.co/ckpt/ControlNet-v1-1/raw/main/control_v11p_sd15_seg_fp16.yaml                         -o control_v11p_sd15_seg_fp16.yaml\n",
    "!aria2c --console-log-level=error -c -x 16 -s 16 -k 1M https://huggingface.co/ckpt/ControlNet-v1-1/raw/main/control_v11p_sd15_softedge_fp16.yaml                    -o control_v11p_sd15_softedge_fp16.yaml\n",
    "!aria2c --console-log-level=error -c -x 16 -s 16 -k 1M https://huggingface.co/ckpt/ControlNet-v1-1/raw/main/control_v11p_sd15s2_lineart_anime_fp16.yaml             -o control_v11p_sd15s2_lineart_anime_fp16.yaml\n",
    "!aria2c --console-log-level=error -c -x 16 -s 16 -k 1M https://huggingface.co/ckpt/ControlNet-v1-1/raw/main/control_v11f1e_sd15_tile_fp16.yaml     "
   ]
  },
  {
   "cell_type": "markdown",
   "id": "25c5a082-86ed-4edb-bf8a-f2c73605be45",
   "metadata": {
    "tags": []
   },
   "source": [
    "##  <font size=\"4\"><font color=\"#00F090\">**CEK PENYIMPANAN**</font>"
   ]
  },
  {
   "cell_type": "code",
   "execution_count": null,
   "id": "b8909378-b8a6-4cb5-a678-d1bfa50919ac",
   "metadata": {},
   "outputs": [],
   "source": [
    "!df -h | grep -E 'Avail|home'\n",
    "print ()\n",
    "!du -h --max-depth=1 /home/studio-lab-user\n",
    "\n",
    "\n",
    "# =======================================================================\n",
    "import os\n",
    "import psutil\n",
    "directory = os.getcwd()\n",
    "disk_space = psutil.disk_usage(directory)\n",
    "total = disk_space.total / (1024 ** 3)\n",
    "used = disk_space.used / (1024 ** 3)\n",
    "free = disk_space.free / (1024 ** 3)\n",
    "\n",
    "print(\"TOTAL FILE TANPA NILAI PEMBULATAN\")\n",
    "print(f\"Total Penyimpanan: {total:.2f} GB \\033[96m| \\033[0mPenyimpanan yang Terpakai: {used:.2f} GB \\033[96m| \\033[0mSisa: {free:.2f} GB\")"
   ]
  },
  {
   "cell_type": "markdown",
   "id": "2caf2ed0-e134-4906-9b6b-cf9bee94534e",
   "metadata": {
    "id": "68dcc6e2-3d89-4925-8d50-7af30e0073e4",
    "tags": []
   },
   "source": [
    "## <font size=\"4\"><font color=\"#00F090\">**Hapus Cache**</font>"
   ]
  },
  {
   "cell_type": "code",
   "execution_count": null,
   "id": "2826d864-ae77-4765-a57d-8fb2f99dab02",
   "metadata": {
    "id": "2826d864-ae77-4765-a57d-8fb2f99dab02",
    "outputId": "2ed461c7-482d-4cfa-8e80-7100d97c5ab9",
    "tags": []
   },
   "outputs": [],
   "source": [
    "!pip cache purge\n",
    "!rm -rf ~/.cache"
   ]
  },
  {
   "cell_type": "markdown",
   "id": "b3e710c5-18eb-44f3-9a1e-12b6400ea6fc",
   "metadata": {
    "id": "1c0b4f9c-d120-4def-86a6-6d0489e8472a",
    "tags": []
   },
   "source": [
    "## <font size=\"4\"><font color=\"#00F090\">**Hapus File Tertentu**</font>"
   ]
  },
  {
   "cell_type": "code",
   "execution_count": null,
   "id": "80c70e03-6d2a-4c9d-9c68-ae054ad87641",
   "metadata": {
    "id": "80c70e03-6d2a-4c9d-9c68-ae054ad87641",
    "tags": []
   },
   "outputs": [],
   "source": [
    "import os\n",
    "import ipywidgets as widgets\n",
    "from ipywidgets import Label, Button, VBox, HBox\n",
    "from IPython.display import display, HTML\n",
    "\n",
    "# Main Constants\n",
    "WEBUI_PATH = \"/home/studio-lab-user/content/sdw\"\n",
    "\n",
    "DIRECTORIES = {\n",
    "    \"Images\": f\"{WEBUI_PATH}/outputs\",\n",
    "    \"Models\": f\"{WEBUI_PATH}/models/Stable-diffusion/\",\n",
    "    \"Vae\": f\"{WEBUI_PATH}/models/VAE/\",\n",
    "    \"LoRa\": f\"{WEBUI_PATH}/models/Lora/\",\n",
    "    \"ControlNet Models\": f\"{WEBUI_PATH}/models/ControlNet/\"\n",
    "}\n",
    "\n",
    "# ==================== CSS ====================\n",
    "CSS_AC = \"\"\"\n",
    "<style>\n",
    "/* General Styles */\n",
    "\n",
    "hr {\n",
    "    border-color: grey;\n",
    "    background-color: grey;\n",
    "    opacity: 0.25;\n",
    "}\n",
    "\n",
    ".instruction_AC {\n",
    "    font-family: arial;\n",
    "    font-size: 18px;\n",
    "    color: grey;\n",
    "    user-select: none;\n",
    "    cursor: default;\n",
    "}\n",
    "\n",
    "\n",
    "/* Container style */\n",
    "\n",
    ".container_AC {\n",
    "    position: relative;\n",
    "    width: 750px;\n",
    "    padding: 15px;\n",
    "    background: #232323;\n",
    "    border-radius: 15px;\n",
    "    margin-bottom: 5px;\n",
    "    overflow: visible;\n",
    "    box-shadow: 0 0 50px rgba(0, 0, 0, 0.3);\n",
    "}\n",
    "\n",
    ".container_AC::before {\n",
    "    content: \"AutoCleaner\";\n",
    "    position: absolute;\n",
    "    font-weight: bold;\n",
    "    font-size: 24px;\n",
    "    top: 0;\n",
    "    right: 0;\n",
    "    color: black;\n",
    "    opacity: 0.175;\n",
    "    padding: 5px;\n",
    "}\n",
    "\n",
    ".container_AC::after {\n",
    "    content: \"VORST CAVRY\";\n",
    "    position: absolute;\n",
    "    font-weight: bold;\n",
    "    font-size: 16px;\n",
    "    bottom: 0;\n",
    "    right: 0;\n",
    "    color: black;\n",
    "    opacity: 0.175;\n",
    "    padding: 5px;\n",
    "}\n",
    "\n",
    ".custom-select-multiple_AC {\n",
    "    width: 100%;\n",
    "}\n",
    "\n",
    ".custom-select-multiple_AC select {\n",
    "    padding: 10px;\n",
    "    font-family: arial;\n",
    "    border: 1px solid #262626;\n",
    "    border-radius: 10px;\n",
    "    color: white;\n",
    "    background-color: #1c1c1c;\n",
    "    box-shadow: inset 0 0 5px rgba(0, 0, 0, 0.5);\n",
    "}\n",
    "\n",
    ".output_AC {\n",
    "    padding: 10px;\n",
    "    height: auto;\n",
    "    border: 1px solid #262626;\n",
    "    border-radius: 10px;\n",
    "    background-color: #1c1c1c;\n",
    "    box-shadow: inset 0 0 5px rgba(0, 0, 0, 0.5);\n",
    "    width: 100%;\n",
    "}\n",
    "\n",
    ".output_message_AC {\n",
    "    font-family: arial;\n",
    "    color: white !important;\n",
    "    font-size: 14px;\n",
    "    user-select: none;\n",
    "    cursor: default;\n",
    "}\n",
    "\n",
    "\n",
    "/* Button style */\n",
    "\n",
    ".buttons_AC {\n",
    "    margin-top: 10px;\n",
    "    font-family: arial;\n",
    "    font-size: 12px;\n",
    "    width: 145px;\n",
    "    height: 35px;\n",
    "    font-weight: bold;\n",
    "    color: white;\n",
    "    border-radius: 15px;\n",
    "    background-image: radial-gradient(circle at top left, blue 10%, blue 90%);\n",
    "    background-size: 200% 200%;\n",
    "    background-position: left bottom;\n",
    "    transition: background 0.5s ease-in-out, transform 0.3s ease;\n",
    "}\n",
    "\n",
    ".buttons_AC:hover {\n",
    "    transform: translateY(1px);\n",
    "    background-image: radial-gradient(circle at top left, blue 10%, green 90%);\n",
    "    background-size: 200% 200%;\n",
    "    background-position: right bottom;\n",
    "    cursor: pointer;\n",
    "}\n",
    "</style>\n",
    "\"\"\"\n",
    "\n",
    "display(HTML(CSS_AC))\n",
    "# ==================== CSS ====================\n",
    "\n",
    "\n",
    "# ================ AutoCleaner function ================\n",
    "def clean_directory(directory):\n",
    "    deleted_files = 0\n",
    "    for root, dirs, files in os.walk(directory):\n",
    "        for file in files:\n",
    "            if not file.endswith(\".txt\") and not file.endswith(\".yaml\"):\n",
    "                file_path = os.path.join(root, file)\n",
    "                os.remove(file_path)\n",
    "                deleted_files += 1\n",
    "    return deleted_files\n",
    "\n",
    "def get_word_variant(n, variants):\n",
    "    unit = abs(n) % 10\n",
    "    tens = abs(n) % 100\n",
    "\n",
    "    if tens in range(11, 15):\n",
    "        return variants[2]\n",
    "    elif unit == 1:\n",
    "        return variants[0]\n",
    "    elif unit in range(2, 5):\n",
    "        return variants[1]\n",
    "    return variants[2]\n",
    "\n",
    "def on_execute_button_press(button):\n",
    "    selected_cleaners = auto_cleaner_widget.value\n",
    "    deleted_files_dict = {}\n",
    "\n",
    "    for option in selected_cleaners:\n",
    "        if option in DIRECTORIES:\n",
    "            deleted_files_dict[option] = clean_directory(DIRECTORIES[option])\n",
    "\n",
    "    output.clear_output()\n",
    "\n",
    "    with output:\n",
    "        for message in generate_messages(deleted_files_dict):\n",
    "            message_widget = HTML(f'<p class=\"output_message_AC\">{message}</p>')\n",
    "            display(message_widget)\n",
    "\n",
    "def on_clear_button_press(button):\n",
    "    widgets.Widget.close_all()\n",
    "\n",
    "def generate_messages(deleted_files_dict):\n",
    "    messages = []\n",
    "    for key, value in deleted_files_dict.items():\n",
    "        if key == \"Images\":\n",
    "            word_variants = [\"Image\", \"Images\", \"Images\"]\n",
    "        elif key == \"Models\":\n",
    "            word_variants = [\"Model\", \"Models\", \"Models\"]\n",
    "        elif key == \"Vae\":\n",
    "            word_variants = [\"VAE\", \"VAE\", \"VAE\"]\n",
    "        elif key == \"LoRa\":\n",
    "            word_variants =  [\"LoRa\", \"LoRa\", \"LoRa\"]\n",
    "        elif key == \"ControlNet Models\":\n",
    "            word_variants = [\"ControlNet Model\", \"ControlNet Models\", \"ControlNet Models\"]\n",
    "\n",
    "        deleted_word_variants = [\"Deleted\", \"Deleted\", \"Deleted\"]\n",
    "        deleted_word = get_word_variant(value, deleted_word_variants)\n",
    "        object_word = get_word_variant(value, word_variants)\n",
    "\n",
    "        messages.append(f\"{deleted_word} {value} {object_word}\")\n",
    "    return messages\n",
    "# ================ AutoCleaner function ================\n",
    "\n",
    "\n",
    "# UI Code\n",
    "AutoCleaner_options = [\"Images\", \"Models\", \"Vae\", \"LoRa\", \"ControlNet Models\"]\n",
    "instruction_label = Label(\"Gunakan 'ctrl' atau 'shift' untuk memilih beberapa pilihan.\").add_class(\"instruction_AC\")\n",
    "auto_cleaner_widget = widgets.SelectMultiple(options=AutoCleaner_options).add_class(\"custom-select-multiple_AC\")\n",
    "output = widgets.Output().add_class(\"output_AC\")\n",
    "# ---\n",
    "execute_button = Button(description='Execute Cleanup').add_class(\"buttons_AC\")\n",
    "execute_button.on_click(on_execute_button_press)\n",
    "clear_button = Button(description='Hide Widget').add_class(\"buttons_AC\")\n",
    "clear_button.on_click(on_clear_button_press)\n",
    "# ---\n",
    "buttons = widgets.HBox([execute_button, clear_button])\n",
    "\n",
    "display(VBox([instruction_label, widgets.HTML('<hr>'), auto_cleaner_widget, output, widgets.HTML('<hr>'), buttons]).add_class(\"container_AC\"))"
   ]
  },
  {
   "cell_type": "markdown",
   "id": "289804e1-f7cd-4200-8320-af1059d69357",
   "metadata": {
    "id": "7fc465fa-bbb6-4048-a268-c8fff57c41dc",
    "tags": []
   },
   "source": [
    "## <font size=\"4\"><font color=\"#00F090\">**Hapus Folder tmp**</font>"
   ]
  },
  {
   "cell_type": "code",
   "execution_count": null,
   "id": "770ef0d1-d8d1-42ac-85ba-7d29e6e773e3",
   "metadata": {
    "id": "770ef0d1-d8d1-42ac-85ba-7d29e6e773e3",
    "tags": []
   },
   "outputs": [],
   "source": [
    "!rm -rf /home/studio-lab-user/tmp"
   ]
  },
  {
   "cell_type": "markdown",
   "id": "1b9813e3-d433-4a2b-9f2b-95963216a1ec",
   "metadata": {
    "id": "1f37cde4-814f-4a31-aef0-bc146da7d6cc",
    "tags": []
   },
   "source": [
    "## <font size=\"4\"><font color=\"#00F090\">**HAPUS SEMUANYA TANPA TERKECUALI**</font>"
   ]
  },
  {
   "cell_type": "code",
   "execution_count": null,
   "id": "09d28b4a-971c-4bcb-a306-77e16e8df704",
   "metadata": {
    "id": "09d28b4a-971c-4bcb-a306-77e16e8df704",
    "tags": []
   },
   "outputs": [],
   "source": [
    "# Hapus Semuanya, Jangan lakukan ini jika masih pemula\n",
    "\n",
    "!rm -r /home/studio-lab-user/.cache\n",
    "!rm -r /home/studio-lab-user/.conda\n",
    "!conda remove -n \"env_name\" --all\n",
    "!rm -rf /home/studio-lab-user/*"
   ]
  },
  {
   "cell_type": "markdown",
   "id": "b4860453-8508-4216-9f9e-7c78cf1ac5bf",
   "metadata": {
    "id": "b4860453-8508-4216-9f9e-7c78cf1ac5bf"
   },
   "source": [
    "## ![Left to Right](https://drive.google.com/uc?export=view&id=1oV6czwnahiyCrzMKWGqNc_HprJ5TuoQv)\n",
    "<center>"
   ]
  }
 ],
 "metadata": {
  "colab": {
   "provenance": []
  },
  "kernelspec": {
   "display_name": "default:Python",
   "language": "python",
   "name": "conda-env-default-py"
  },
  "language_info": {
   "codemirror_mode": {
    "name": "ipython",
    "version": 3
   },
   "file_extension": ".py",
   "mimetype": "text/x-python",
   "name": "python",
   "nbconvert_exporter": "python",
   "pygments_lexer": "ipython3",
   "version": "3.10.12"
  }
 },
 "nbformat": 4,
 "nbformat_minor": 5
}
