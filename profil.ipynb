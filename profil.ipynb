{
  "nbformat": 4,
  "nbformat_minor": 0,
  "metadata": {
    "colab": {
      "provenance": []
    },
    "kernelspec": {
      "name": "python3",
      "display_name": "Python 3"
    },
    "language_info": {
      "name": "python"
    }
  },
  "cells": [
    {
      "cell_type": "code",
      "execution_count": null,
      "metadata": {
        "id": "2Rb2-Avn7OZ_"
      },
      "outputs": [],
      "source": [
        "\n",
        "from IPython.display import HTML, display\n",
        "\n",
        "def display_text_box(content, width=\"485px\", height=\"30px\"):\n",
        "    html_content = f'''\n",
        "        <div style=\"\n",
        "            display: flex;\n",
        "            align-items: center;\n",
        "            justify-content: center;\n",
        "            border: 2px solid #ccc;\n",
        "            background-color: #007bff;\n",
        "            width: {width};\n",
        "            height: {height};\n",
        "            color: white;\n",
        "            font-weight: bold;\n",
        "            text-align: center;\n",
        "        \">{content}</div>\n",
        "    '''\n",
        "    display(HTML(html_content))\n",
        "\n",
        "text_content = \"Terima kasih Telah Menggunakan Notebook google colab StableDiffusion milik Remaja Pekalongan.\"\n",
        "\n",
        "display_text_box(text_content, width=\"485px\", height=\"30px\")\n",
        "\n",
        "from IPython.display import HTML, Image\n",
        "\n",
        "def display_image():\n",
        "    image_url = \"https://raw.githubusercontent.com/vorstcavry/Checkpoint-Model/https/github.com/vorstcavry/Cuplikan-layar-2023-07-30-165548.png\"\n",
        "    image_html = f'<a href=\"https://www.youtube.com/@remajapekalongan\" target=\"_blank\"><img src=\"{image_url}\" width=\"489\" height=\"172\"></a>'\n",
        "\n",
        "    display(HTML(image_html))\n",
        "\n",
        "display_image()\n",
        "from IPython.display import HTML\n",
        "\n",
        "def create_button_with_link(label, link):\n",
        "    button_id = label.lower().replace(\" \", \"_\")\n",
        "    return f'''\n",
        "        <style>\n",
        "            #{button_id} {{\n",
        "                width: 119px;\n",
        "                height: 40px;\n",
        "                background-color: #007bff;\n",
        "                color: white;\n",
        "                border: 2px solid #ccc;\n",
        "                cursor: pointer;\n",
        "                transition: background-color 0.3s;\n",
        "            }}\n",
        "            #{button_id}:hover {{\n",
        "                background-color: #0056b3;\n",
        "            }}\n",
        "        </style>\n",
        "        <a href=\"{link}\" target=\"_blank\" style=\"text-decoration: none;\">\n",
        "            <button id=\"{button_id}\">{label}</button>\n",
        "        </a>\n",
        "    '''\n",
        "\n",
        "subscribe_button = create_button_with_link(\"Subscribe\", \"https://www.youtube.com/@remajapekalongan\")\n",
        "support_button = create_button_with_link(\"Support\", \"https://ko-fi.com/vorstcavry\")\n",
        "saweria_button = create_button_with_link(\"Saweria\", \"https://http://saweria.co/vorstcavry\")\n",
        "discord_button = create_button_with_link(\"Discord\", \"https://discord.gg/fg9kvMqUmD\")\n",
        "whatsapp_button = create_button_with_link(\"Whatsapp\", \"https://wa.me/+6285726996330\")\n",
        "\n",
        "buttons_html = f'<div>{subscribe_button} {saweria_button} {discord_button} {whatsapp_button}</div>'\n",
        "display(HTML(buttons_html))\n",
        "\n"
      ]
    }
  ]
}
