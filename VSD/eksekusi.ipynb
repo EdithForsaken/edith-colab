{
  "nbformat": 4,
  "nbformat_minor": 0,
  "metadata": {
    "colab": {
      "provenance": []
    },
    "kernelspec": {
      "name": "python3",
      "display_name": "Python 3"
    },
    "language_info": {
      "name": "python"
    }
  },
  "cells": [
    {
      "cell_type": "code",
      "execution_count": null,
      "metadata": {
        "id": "OQnrXE4hNv2h"
      },
      "outputs": [],
      "source": [
        "# membuat symlink ke folder sementara\n",
        "print(\"\\n\\033[92m➤ Mempersiapkan folder 🗑️\\033[97m\")\n",
        "!rm -rf /home/studio-lab-user/content/sdw/models/Stable-diffusion/tmp_models\n",
        "!rm -rf /home/studio-lab-user/content/sdw/models/Lora/tmp_Lora\n",
        "!rm -rf /home/studio-lab-user/content/sdw/models/tmp_VAE\n",
        "!ln -vs /tmp ~/tmp\n",
        "!ln -vs /tmp/models /home/studio-lab-user/content/sdw/models/Stable-diffusion/tmp_models\n",
        "!ln -vs /tmp/Lora /home/studio-lab-user/content/sdw/models/Lora/tmp_Lora\n",
        "!ln -vs /tmp/VAE /home/studio-lab-user/content/sdw/models/VAE/tmp_VAE\n",
        "\n",
        "!mkdir -p /tmp/models\n",
        "!mkdir -p /tmp/Lora\n",
        "!mkdir -p /tmp/VAE\n",
        "# Jika Anda menemukan kesalahan dalam kode, entah itu kesalahan ketik atau hal lainnya, laporkan.\n",
        "from IPython.display import clear_output\n",
        "print(\"Mempersiapkan Vae Tambahan\")\n",
        "!aria2c --console-log-level=error -c -x 16 -s 16 -k 1M https://huggingface.co/stabilityai/sd-vae-ft-mse-original/resolve/main/vae-ft-mse-840000-ema-pruned.safetensors -d /home/studio-lab-user/content/sdw/models/VAE -o vae-ft-mse-840000-ema-pruned.safetensors\n",
        "clear_output()\n",
        "\n",
        "## =============== konfigurasi lingkungan startup ===============\n",
        "import os\n",
        "import time\n",
        "import json\n",
        "from datetime import timedelta\n",
        "from subprocess import getoutput\n",
        "\n",
        "def load_settings():\n",
        "    SETTINGS_FILE = '/home/studio-lab-user/content/settings_vorstcavry.json'\n",
        "    if os.path.exists(SETTINGS_FILE):\n",
        "        with open(SETTINGS_FILE, 'r') as f:\n",
        "            settings = json.load(f)\n",
        "        return settings\n",
        "\n",
        "settings = load_settings()\n",
        "ngrok_token = settings['ngrok_token']\n",
        "commandline_arguments = settings['commandline_arguments']\n",
        "\n",
        "output = getoutput('nvidia-smi --query-gpu=gpu_name --format=csv')\n",
        "if \"name\" in output:\n",
        "    pass\n",
        "else:\n",
        "    commandline_arguments += \" --skip-torch-cuda-test --precision full --no-half --use-cpu SD GFPGAN BSRGAN ESRGAN SCUNet CodeFormer --all\"\n",
        "    commandline_arguments = commandline_arguments.replace(\"--xformers\",\"\")\n",
        "\n",
        "try:\n",
        "    start_colab\n",
        "except:\n",
        "    start_colab = int(time.time())-5\n",
        "\n",
        "if os.path.exists(\"/home/studio-lab-user/content/sdw/static/colabTimer.txt\"):\n",
        "    os.remove(\"/home/studio-lab-user/content/sdw/static/colabTimer.txt\")\n",
        "!echo -n {start_colab} > /home/studio-lab-user/content/sdw/static/colabTimer.txt\n",
        "\n",
        "# =============== LAUNCH ===============\n",
        "if not ngrok_token:\n",
        "    print(\"You have not entered the ngrok token!, go back to `Widgets` section and insert your token. You can get it here : https://dashboard.ngrok.com/get-started/your-authtoken\")\n",
        "\n",
        "else:\n",
        "    commandline_arguments += ' --ngrok ' + ngrok_token\n",
        "    commandline_arguments = commandline_arguments.replace(\"--share\",\"\").replace(\"--multiple\",\"\")\n",
        "\n",
        "    %cd /home/studio-lab-user/content/sdw\n",
        "    !COMMANDLINE_ARGS=\"{commandline_arguments}\" python launch.py\n",
        "\n",
        "    start_colab = float(open('/home/studio-lab-user/content/sdw/static/colabTimer.txt', 'r').read())\n",
        "    time_since_start = str(timedelta(seconds=time.time()-start_colab)).split('.')[0]\n",
        "    print(f\"\\n⌚️ \\033[96;1mYou have been conducting this session for -  \\033[93;2m{time_since_start}\\033[96m\\n\\n\")"
      ]
    }
  ]
}