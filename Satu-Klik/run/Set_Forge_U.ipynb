{
  "nbformat": 4,
  "nbformat_minor": 0,
  "metadata": {
    "colab": {
      "provenance": [],
      "authorship_tag": "ABX9TyOhGYhf41bm6mYhUTIaQ3dF",
      "include_colab_link": true
    },
    "kernelspec": {
      "name": "python3",
      "display_name": "Python 3"
    },
    "language_info": {
      "name": "python"
    }
  },
  "cells": [
    {
      "cell_type": "markdown",
      "metadata": {
        "id": "view-in-github",
        "colab_type": "text"
      },
      "source": [
        "<a href=\"https://colab.research.google.com/github/EdithForsaken/edith-colab/blob/main/Satu-Klik/run/Set_Forge_U.ipynb\" target=\"_parent\"><img src=\"https://colab.research.google.com/assets/colab-badge.svg\" alt=\"Open In Colab\"/></a>"
      ]
    },
    {
      "cell_type": "code",
      "execution_count": null,
      "metadata": {
        "cellView": "form",
        "id": "K7jgVTWULnBH"
      },
      "outputs": [],
      "source": [
        "Webui = 'Forge' # @param [\"A1111\", \"Forge\", \"ReForge\", \"Forge-Classic\", \"ComfyUI\", \"SwarmUI\"]\n",
        "Civitai___Key = '9bdc152af9cc73448832af380b91a6ad' # @param { type: \"string\", placeholder: \"Your Civitai API Key (required)\" }\n",
        "HF_Read_Token = '' # @param { type: \"string\", placeholder: \"Your Huggingface READ Token (optional)\" }\n",
        "Mount__GDrive = 'No' # @param [\"Yes\", \"No\"]\n",
        "\n",
        "if Mount__GDrive == 'Yes':\n",
        "    from google.colab import drive\n",
        "    drive.mount('/content/drive')\n",
        "\n",
        "!curl -sLo /content/setup.py https://github.com/gutris1/segsmaker/raw/main/script/KC/setup.py\n",
        "%run /content/setup.py --webui=\"$Webui\" --civitai_key=\"$Civitai___Key\" --hf_read_token=\"$HF_Read_Token\"\n",
        "\n",
        "if Mount__GDrive == 'Yes':\n",
        "    from pathlib import Path\n",
        "\n",
        "    d = Path('/content/drive/MyDrive/Segsmaker')\n",
        "\n",
        "    for n, p in {'checkpoint': CKPT, 'lora': LORA, 'vae': VAE, 'embeddings': Embeddings}.items():\n",
        "        f = d / n\n",
        "        f.mkdir(parents=True, exist_ok=True)\n",
        "        s = p / f'drive-{n}'\n",
        "        s.symlink_to(f, target_is_directory=True)\n",
        "\n",
        "    !rm -rf $WebUI_Output\n",
        "    o = d / {'ComfyUI': 'comfyui-output', 'SwarmUI': 'swarmui-output'}.get(Webui, 'output')\n",
        "    o.mkdir(parents=True, exist_ok=True)\n",
        "    WebUI_Output.symlink_to(o, target_is_directory=True)"
      ]
    }
  ]
}