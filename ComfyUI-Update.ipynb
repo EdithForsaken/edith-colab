{
  "cells": [
    {
      "cell_type": "code",
      "source": [
        "import sys\n",
        "import subprocess\n",
        "import os\n",
        "import time\n",
        "import json\n",
        "import shutil\n",
        "import random\n",
        "import string\n",
        "from pathlib import Path\n",
        "from tqdm import tqdm\n",
        "from pydantic import BaseModel\n",
        "from google.colab import drive\n",
        "import os\n",
        "from IPython.utils import capture\n",
        "\n",
        "class CustomDirs(BaseModel):\n",
        "    url: str\n",
        "    dst: str\n",
        "\n",
        "import zipfile\n",
        "import os\n",
        "from IPython.utils.io import capture_output\n",
        "from IPython.display import HTML, display, clear_output\n",
        "\n",
        "\n",
        "def mostrar_en_div_estilizado(contenido):\n",
        "    from IPython.display import HTML, display\n",
        "    animation_style = \"\"\"@keyframes moveBackground{0%{background-position:0 50%}100%{background-position:100% 50%}}\"\"\"\n",
        "    div_style = \"\"\"background:radial-gradient(circle at 20% 50%,rgba(255,0,0,.4),transparent),radial-gradient(circle at 50% 50%,rgba(0,255,0,.5),transparent),radial-gradient(circle at 80% 50%,rgba(0,0,255,.4),transparent),radial-gradient(circle at 20% 50%,rgba(255,0,0,.4),transparent);background-color:transparent;background-size:400% 400%;animation:moveBackground 60s linear infinite;color:#FFEFDF;padding:15px;border-radius:5px;font-weight:bold;font-family:monospace;box-shadow:0 4px 6px rgba(0,0,0,.5)\"\"\"\n",
        "    display(HTML(f\"<style>{animation_style}</style>\"))\n",
        "    div = f'<div class=\"alert alert-primary\" style=\"{div_style}\">{contenido}</div>'\n",
        "    display(HTML(div))\n",
        "mostrar_en_div_estilizado(f\"<h1>😐 Masih Tahap awal dulu cuy</h1><hr>🌎Proses: 39% - install repo dulu cuy\")\n",
        "with capture_output() as c:\n",
        "    url = \"https://raw.githubusercontent.com/EdithForsaken/edith-colab/refs/heads/main/Set_ComfyUI.ipynb\"\n",
        "    output_path = \"/content/Set_ComfyUI.ipynb\"\n",
        "    os.system(f\"wget {url} -O {output_path}\")\n",
        "    %run /content/Set_ComfyUI.ipynb\n",
        "clear_output()\n",
        "mostrar_en_div_estilizado(f\"<h1>🥱 Buru buru amat, Sabar aja Kak </h1><hr>🌏Proses: 48% - siapin Custom Node-nya\")\n",
        "with capture_output() as c:\n",
        "    %cd -q $Extensions\n",
        "    !git clone https://github.com/Fannovel16/comfyui_controlnet_aux\n",
        "    !git clone https://github.com/Kosinkadink/ComfyUI-Advanced-ControlNet\n",
        "    !git clone https://github.com/hayden-fr/ComfyUI-Model-Manager\n",
        "    !git clone https://github.com/jags111/efficiency-nodes-comfyui\n",
        "    !git clone https://github.com/XLabs-AI/x-flux-comfyui\n",
        "    !git clone https://github.com/ltdrdata/ComfyUI-Impact-Subpack\n",
        "    !git clone https://github.com/ltdrdata/ComfyUI-Manager\n",
        "    !git clone https://github.com/pythongosssss/ComfyUI-Custom-Scripts\n",
        "    !git clone https://github.com/pythongosssss/ComfyUI-WD14-Tagger\n",
        "    !git clone https://github.com/ssitu/ComfyUI_UltimateSDUpscale\n",
        "    !git clone https://github.com/WASasquatch/was-node-suite-comfyui\n",
        "    !git clone https://github.com/Extraltodeus/LoadLoraWithTags\n",
        "    !git clone https://github.com/liuqianhonga/ComfyUI-Model-Downloader\n",
        "    !git clone https://github.com/X-T-E-R/ComfyUI-EasyCivitai-XTNodes\n",
        "    !git clone https://github.com/crystian/ComfyUI-Crystools\n",
        "    !git clone https://github.com/civitai/civitai_comfy_nodes\n",
        "    !git clone https://github.com/rgthree/rgthree-comfy\n",
        "    !git clone https://github.com/EdithForsaken/ultimate_sd_upscale /content/ComfyUI/custom_nodes/ComfyUI_UltimateSDUpscale/repositories/ultimate_sd_upscale\n",
        "    !git clone https://github.com/ciri/comfyui-model-downloader /content/ComfyUI/custom_nodes/comfyui-downloader\n",
        "clear_output()\n",
        "mostrar_en_div_estilizado(f\"<h1>😆 BTW Jangan lupa Sentuh rumput</h1><hr>🌏Proses: 65% - Install ComfyUI-Impact-Pack..\")\n",
        "with capture_output() as c:\n",
        "    %cd -q $Extensions\n",
        "    !git clone https://github.com/ltdrdata/ComfyUI-Impact-Pack.git\n",
        "    %cd ComfyUI-Impact-Pack\n",
        "    !pip install -r requirements.txt\n",
        "    !pip install ultralytics\n",
        "    !python install.py\n",
        "clear_output()\n",
        "mostrar_en_div_estilizado(f\"<h1>🤨 Lu pake AI utk Generate gambar SUS? </h1><hr>🌏Proses: 80% - Install model dulu ya kan..\")\n",
        "with capture_output() as c:\n",
        "    %cd -q $CKPT\n",
        "    %download https://huggingface.co/cagliostrolab/animagine-xl-4.0/resolve/main/animagine-xl-4.0-opt.safetensors?download=true\n",
        "clear_output()\n",
        "mostrar_en_div_estilizado(f\"<h1>😇 Jangan Untuk Kejahatan Yaa.. </h1><hr>🌏Proses: 85% - Install Lora dulu ya...\")\n",
        "with capture_output() as c:\n",
        "    %cd -q $LORA\n",
        "    %download https://civitai.com/models/122359/detail-tweaker-xl\n",
        "    %download https://civitai.com/models/669571/pony-add-more-details details-add-more-pony.safetensors\n",
        "    clear_output()\n",
        "mostrar_en_div_estilizado(f\"<h1>🥶 Mempersiapkan Link!!!!</h1><hr>🌍Proses: Mulai menjalankan ComfyUI\")\n",
        "%cd -q $WebUI\n",
        "%run segsmaker.py --dont-print-server --use-pytorch-cross-attention\n"
      ],
      "metadata": {
        "id": "glyDc4pHN5JU",
        "outputId": "3bb16504-1fa8-4fd5-ef79-48bd88c2f8ae",
        "colab": {
          "base_uri": "https://localhost:8080/",
          "height": 134
        }
      },
      "execution_count": null,
      "outputs": [
        {
          "output_type": "display_data",
          "data": {
            "text/plain": [
              "<IPython.core.display.HTML object>"
            ],
            "text/html": [
              "<style>@keyframes moveBackground{0%{background-position:0 50%}100%{background-position:100% 50%}}</style>"
            ]
          },
          "metadata": {}
        },
        {
          "output_type": "display_data",
          "data": {
            "text/plain": [
              "<IPython.core.display.HTML object>"
            ],
            "text/html": [
              "<div class=\"alert alert-primary\" style=\"background:radial-gradient(circle at 20% 50%,rgba(255,0,0,.4),transparent),radial-gradient(circle at 50% 50%,rgba(0,255,0,.5),transparent),radial-gradient(circle at 80% 50%,rgba(0,0,255,.4),transparent),radial-gradient(circle at 20% 50%,rgba(255,0,0,.4),transparent);background-color:transparent;background-size:400% 400%;animation:moveBackground 60s linear infinite;color:#FFEFDF;padding:15px;border-radius:5px;font-weight:bold;font-family:monospace;box-shadow:0 4px 6px rgba(0,0,0,.5)\"><h1>😐 Masih Tahap awal dulu cuy</h1><hr>🌎Proses: 39% - install repo dulu cuy</div>"
            ]
          },
          "metadata": {}
        }
      ]
    }
  ],
  "metadata": {
    "accelerator": "GPU",
    "colab": {
      "gpuType": "T4",
      "provenance": []
    },
    "kernelspec": {
      "display_name": "Python 3",
      "name": "python3"
    },
    "language_info": {
      "name": "python"
    }
  },
  "nbformat": 4,
  "nbformat_minor": 0
}