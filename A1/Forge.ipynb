{
  "nbformat": 4,
  "nbformat_minor": 0,
  "metadata": {
    "colab": {
      "provenance": [],
      "gpuType": "T4"
    },
    "kernelspec": {
      "name": "python3",
      "display_name": "Python 3"
    },
    "language_info": {
      "name": "python"
    },
    "accelerator": "GPU",
    "widgets": {
      "application/vnd.jupyter.widget-state+json": {
        "996fee7544de46368a78b200e3856ab4": {
          "model_module": "@jupyter-widgets/output",
          "model_name": "OutputModel",
          "model_module_version": "1.0.0",
          "state": {
            "_dom_classes": [],
            "_model_module": "@jupyter-widgets/output",
            "_model_module_version": "1.0.0",
            "_model_name": "OutputModel",
            "_view_count": null,
            "_view_module": "@jupyter-widgets/output",
            "_view_module_version": "1.0.0",
            "_view_name": "OutputView",
            "layout": "IPY_MODEL_7c7cdf6ab96444499734e9972d4dcbf8",
            "msg_id": "",
            "outputs": [
              {
                "output_type": "stream",
                "name": "stdout",
                "text": [
                  "From https://github.com/AUTOMATIC1111/stable-diffusion-webui\n",
                  " * branch              master     -> FETCH_HEAD\n",
                  "Already up to date.\n"
                ]
              }
            ]
          }
        },
        "7c7cdf6ab96444499734e9972d4dcbf8": {
          "model_module": "@jupyter-widgets/base",
          "model_name": "LayoutModel",
          "model_module_version": "1.2.0",
          "state": {
            "_model_module": "@jupyter-widgets/base",
            "_model_module_version": "1.2.0",
            "_model_name": "LayoutModel",
            "_view_count": null,
            "_view_module": "@jupyter-widgets/base",
            "_view_module_version": "1.2.0",
            "_view_name": "LayoutView",
            "align_content": null,
            "align_items": null,
            "align_self": null,
            "border": null,
            "bottom": null,
            "display": null,
            "flex": null,
            "flex_flow": null,
            "grid_area": null,
            "grid_auto_columns": null,
            "grid_auto_flow": null,
            "grid_auto_rows": null,
            "grid_column": null,
            "grid_gap": null,
            "grid_row": null,
            "grid_template_areas": null,
            "grid_template_columns": null,
            "grid_template_rows": null,
            "height": null,
            "justify_content": null,
            "justify_items": null,
            "left": null,
            "margin": null,
            "max_height": null,
            "max_width": null,
            "min_height": null,
            "min_width": null,
            "object_fit": null,
            "object_position": null,
            "order": null,
            "overflow": null,
            "overflow_x": null,
            "overflow_y": null,
            "padding": null,
            "right": null,
            "top": null,
            "visibility": null,
            "width": null
          }
        },
        "8b0b0ca515b44710b94982a421755442": {
          "model_module": "@jupyter-widgets/output",
          "model_name": "OutputModel",
          "model_module_version": "1.0.0",
          "state": {
            "_dom_classes": [],
            "_model_module": "@jupyter-widgets/output",
            "_model_module_version": "1.0.0",
            "_model_name": "OutputModel",
            "_view_count": null,
            "_view_module": "@jupyter-widgets/output",
            "_view_module_version": "1.0.0",
            "_view_name": "OutputView",
            "layout": "IPY_MODEL_0d9754631366481aac323bba9274430b",
            "msg_id": "",
            "outputs": []
          }
        },
        "0d9754631366481aac323bba9274430b": {
          "model_module": "@jupyter-widgets/base",
          "model_name": "LayoutModel",
          "model_module_version": "1.2.0",
          "state": {
            "_model_module": "@jupyter-widgets/base",
            "_model_module_version": "1.2.0",
            "_model_name": "LayoutModel",
            "_view_count": null,
            "_view_module": "@jupyter-widgets/base",
            "_view_module_version": "1.2.0",
            "_view_name": "LayoutView",
            "align_content": null,
            "align_items": null,
            "align_self": null,
            "border": null,
            "bottom": null,
            "display": null,
            "flex": null,
            "flex_flow": null,
            "grid_area": null,
            "grid_auto_columns": null,
            "grid_auto_flow": null,
            "grid_auto_rows": null,
            "grid_column": null,
            "grid_gap": null,
            "grid_row": null,
            "grid_template_areas": null,
            "grid_template_columns": null,
            "grid_template_rows": null,
            "height": null,
            "justify_content": null,
            "justify_items": null,
            "left": null,
            "margin": null,
            "max_height": null,
            "max_width": null,
            "min_height": null,
            "min_width": null,
            "object_fit": null,
            "object_position": null,
            "order": null,
            "overflow": null,
            "overflow_x": null,
            "overflow_y": null,
            "padding": null,
            "right": null,
            "top": null,
            "visibility": null,
            "width": null
          }
        }
      }
    }
  },
  "cells": [
    {
      "cell_type": "code",
      "execution_count": 2,
      "metadata": {
        "id": "tQqllRM-MCnT",
        "outputId": "380ee642-75d9-4dfd-a80b-e4160a3d8e9a",
        "colab": {
          "base_uri": "https://localhost:8080/",
          "height": 91,
          "referenced_widgets": [
            "996fee7544de46368a78b200e3856ab4",
            "7c7cdf6ab96444499734e9972d4dcbf8",
            "8b0b0ca515b44710b94982a421755442",
            "0d9754631366481aac323bba9274430b"
          ]
        }
      },
      "outputs": [
        {
          "output_type": "display_data",
          "data": {
            "text/plain": [
              "Output()"
            ],
            "application/vnd.jupyter.widget-view+json": {
              "version_major": 2,
              "version_minor": 0,
              "model_id": "996fee7544de46368a78b200e3856ab4"
            }
          },
          "metadata": {}
        },
        {
          "output_type": "display_data",
          "data": {
            "text/plain": [
              "Output()"
            ],
            "application/vnd.jupyter.widget-view+json": {
              "version_major": 2,
              "version_minor": 0,
              "model_id": "8b0b0ca515b44710b94982a421755442"
            }
          },
          "metadata": {}
        }
      ],
      "source": [
        "# @title WebUI Installer {\"display-mode\":\"form\"}\n",
        "\n",
        "ui = 'Forge' # @param [\"A1111\", \"Forge\", \"ComfyUI\", \"ReForge\", \"SwarmUI\"]\n",
        "sd = 'XL' # @param [\"1.5\", \"XL\"]\n",
        "civitai___key = '77b32ae5ce27aec99ea7aece6927cc1c' # @param {type:\"string\", placeholder:\"your Civitai API key\"}\n",
        "hf_read_token = '' # @param {type:\"string\", placeholder:\"your Huggingface READ token (optional)\"}\n",
        "\n",
        "!curl -sLo /content/setup.py https://github.com/gutris1/segsmaker/raw/main/script/KC/setup.py\n",
        "%run /content/setup.py --webui=\"$ui\" --sd=\"$sd\" --civitai_key=\"$civitai___key\" --hf_read_token=\"$hf_read_token\"\n",
        "\n",
        "import os\n",
        "\n",
        "# Path folder lama dan baru\n",
        "old_folder = \"/content/Forge\"  # Ganti dengan nama folder lama\n",
        "new_folder = \"/content/stable-diffusion-webui-forge\"  # Ganti dengan nama folder baru\n",
        "\n",
        "# Mengecek apakah folder lama ada\n",
        "if os.path.exists(old_folder):\n",
        "    os.rename(old_folder, new_folder)\n",
        "    print(f\"Folder berhasil diganti menjadi: {new_folder}\")\n",
        "else:\n",
        "    print(\"Folder lama tidak ditemukan!\")"
      ]
    },
    {
      "cell_type": "markdown",
      "source": [
        "## Launcher\n",
        "args list :\n",
        "-  **A1111** = `--xformers`\n",
        "- **Forge** = `--disable-xformers --opt-sdp-attention --cuda-stream --pin-shared-memory`\n",
        "- **ComfyUI** = `--dont-print-server --preview-method auto --use-pytorch-cross-attention`\n",
        "- **ReForge** = `--xformers --cuda-stream --pin-shared-memory`\n",
        "- **SwarmUI** = `--launch_mode none`\n",
        "<br><br>\n",
        "\n",
        "For ComfyUI, add `--skip-comfyui-check` to skip checking custom node dependencies\n",
        "\n",
        "Add **--N=ngrok_token** to start NGROK tunnel<br>\n",
        "Add **--Z=zrok_token** to start ZROK tunnel"
      ],
      "metadata": {
        "id": "BB8pCZnrQnR9"
      }
    }
  ]
}