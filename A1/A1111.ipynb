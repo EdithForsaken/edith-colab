{
  "nbformat": 4,
  "nbformat_minor": 0,
  "metadata": {
    "colab": {
      "provenance": []
    },
    "kernelspec": {
      "name": "python3",
      "display_name": "Python 3"
    },
    "language_info": {
      "name": "python"
    }
  },
  "cells": [
    {
      "cell_type": "code",
      "execution_count": null,
      "metadata": {
        "cellView": "form",
        "id": "vGI7rY1oXq3Y"
      },
      "outputs": [],
      "source": [
        "ui = 'A1111' # @param [\"A1111\", \"Forge\", \"ComfyUI\", \"ReForge\", \"SwarmUI\"]\n",
        "sd = 'XL' # @param [\"1.5\", \"XL\"]\n",
        "civitai___key = '77b32ae5ce27aec99ea7aece6927cc1c' # @param {type:\"string\", placeholder:\"your Civitai API key\"}\n",
        "hf_read_token = '' # @param {type:\"string\", placeholder:\"your Huggingface READ token (optional)\"}\n",
        "\n",
        "!curl -sLo /content/setup.py https://github.com/gutris1/segsmaker/raw/main/script/KC/setup.py\n",
        "%run /content/setup.py --webui=\"$ui\" --sd=\"$sd\" --civitai_key=\"$civitai___key\" --hf_read_token=\"$hf_read_token\"\n",
        "\n",
        "import os\n",
        "\n",
        "# Path folder lama dan baru\n",
        "old_folder = \"/content/A1111\"  # Ganti dengan nama folder lama\n",
        "new_folder = \"/content/stable-diffusion-webui-forge\"  # Ganti dengan nama folder baru\n",
        "\n",
        "# Mengecek apakah folder lama ada\n",
        "if os.path.exists(old_folder):\n",
        "    os.rename(old_folder, new_folder)\n",
        "    print(f\"Folder berhasil diganti menjadi: {new_folder}\")\n",
        "else:\n",
        "    print(\"Folder lama tidak ditemukan!\")"
      ]
    }
  ]
}
