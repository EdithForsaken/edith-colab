{
  "nbformat": 4,
  "nbformat_minor": 0,
  "metadata": {
    "colab": {
      "provenance": [],
      "gpuType": "T4"
    },
    "kernelspec": {
      "name": "python3",
      "display_name": "Python 3"
    },
    "language_info": {
      "name": "python"
    },
    "accelerator": "GPU",
    "widgets": {
      "application/vnd.jupyter.widget-state+json": {
        "5899eb883bc444ffbf58adeb9e8937c1": {
          "model_module": "@jupyter-widgets/output",
          "model_name": "OutputModel",
          "model_module_version": "1.0.0",
          "state": {
            "_dom_classes": [],
            "_model_module": "@jupyter-widgets/output",
            "_model_module_version": "1.0.0",
            "_model_name": "OutputModel",
            "_view_count": null,
            "_view_module": "@jupyter-widgets/output",
            "_view_module_version": "1.0.0",
            "_view_name": "OutputView",
            "layout": "IPY_MODEL_7804934fb5c642da89517ff351f857d6",
            "msg_id": "",
            "outputs": [
              {
                "output_type": "display_data",
                "data": {
                  "text/plain": "<IPython.core.display.HTML object>",
                  "text/html": "<span style='color:red;'><b>【</span> <span style='color:d;'>Installing Forge</span> <span style='color:red;'>】</span> <span></b></span>"
                },
                "metadata": {}
              },
              {
                "output_type": "stream",
                "name": "stdout",
                "text": [
                  "  Forge ▶ https://github.com/lllyasviel/stable-diffusion-webui-forge\n"
                ]
              },
              {
                "output_type": "stream",
                "name": "stdout",
                "text": [
                  "\n",
                  "  pull : forge \n",
                  "  from : https://github.com/gutris1/segsmaker \n",
                  "  into : /content/Forge\n",
                  "\n"
                ]
              },
              {
                "output_type": "stream",
                "name": "stdout",
                "text": [
                  "  3bbcdd|\u001b[38;5;35mOK\u001b[0m  |   2.2MiB/s|\u001b[38;5;208m/\u001b[0mcontent\u001b[38;5;208m/\u001b[0mForge\u001b[38;5;208m/\u001b[0masd\u001b[38;5;208m/\u001b[0mcontrolnet.py\n"
                ]
              },
              {
                "output_type": "stream",
                "name": "stdout",
                "text": [
                  "  787829|\u001b[38;5;35mOK\u001b[0m  |   649KiB/s|\u001b[38;5;208m/\u001b[0mcontent\u001b[38;5;208m/\u001b[0mForge\u001b[38;5;208m/\u001b[0msegsmaker.py\n"
                ]
              },
              {
                "output_type": "stream",
                "name": "stdout",
                "text": [
                  "  525558|\u001b[38;5;35mOK\u001b[0m  |   109MiB/s|\u001b[38;5;208m/\u001b[0mcontent\u001b[38;5;208m/\u001b[0mForge\u001b[38;5;208m/\u001b[0mmodels\u001b[38;5;208m/\u001b[0mESRGAN\u001b[38;5;208m/\u001b[0m4x-UltraSharp.pth\n"
                ]
              },
              {
                "output_type": "stream",
                "name": "stdout",
                "text": [
                  "\r                                                                                                                                                                                                                                                                                                            \r \u001b[35m【\u001b[0m\u001b[36m#\u001b[0m\u001b[38;5;35m77cd2c\u001b[0m 62\u001b[38;5;135mMiB\u001b[0m\u001b[35m/\u001b[0m63\u001b[38;5;135mMiB\u001b[0m\u001b[35m(\u001b[0m98%\u001b[35m)\u001b[0m \u001b[36mCN\u001b[0m:\u001b[38;5;208m3\u001b[0m \u001b[36mDL\u001b[0m:67\u001b[38;5;135mMiB\u001b[0m\u001b[35m】\u001b[0m"
                ]
              },
              {
                "output_type": "stream",
                "name": "stdout",
                "text": [
                  "\n",
                  "  77cd2c|\u001b[38;5;35mOK\u001b[0m  |    67MiB/s|\u001b[38;5;208m/\u001b[0mcontent\u001b[38;5;208m/\u001b[0mForge\u001b[38;5;208m/\u001b[0mmodels\u001b[38;5;208m/\u001b[0mESRGAN\u001b[38;5;208m/\u001b[0m4x-AnimeSharp.pth\n"
                ]
              },
              {
                "output_type": "stream",
                "name": "stdout",
                "text": [
                  "\r                                                                                                                                                                                                                                                                                                            \r \u001b[35m【\u001b[0m\u001b[36m#\u001b[0m\u001b[38;5;35m0c778c\u001b[0m 62\u001b[38;5;135mMiB\u001b[0m\u001b[35m/\u001b[0m63\u001b[38;5;135mMiB\u001b[0m\u001b[35m(\u001b[0m98%\u001b[35m)\u001b[0m \u001b[36mCN\u001b[0m:\u001b[38;5;208m4\u001b[0m \u001b[36mDL\u001b[0m:85\u001b[38;5;135mMiB\u001b[0m\u001b[35m】\u001b[0m"
                ]
              },
              {
                "output_type": "stream",
                "name": "stdout",
                "text": [
                  "\n",
                  "  0c778c|\u001b[38;5;35mOK\u001b[0m  |    85MiB/s|\u001b[38;5;208m/\u001b[0mcontent\u001b[38;5;208m/\u001b[0mForge\u001b[38;5;208m/\u001b[0mmodels\u001b[38;5;208m/\u001b[0mESRGAN\u001b[38;5;208m/\u001b[0m4x_NMKD-Superscale-SP_178000_G.pth\n"
                ]
              },
              {
                "output_type": "stream",
                "name": "stdout",
                "text": [
                  "\r                                                                                                                                                                                                                                                                                                            \r \u001b[35m【\u001b[0m\u001b[36m#\u001b[0m\u001b[38;5;35m181b09\u001b[0m 62\u001b[38;5;135mMiB\u001b[0m\u001b[35m/\u001b[0m63\u001b[38;5;135mMiB\u001b[0m\u001b[35m(\u001b[0m98%\u001b[35m)\u001b[0m \u001b[36mCN\u001b[0m:\u001b[38;5;208m1\u001b[0m \u001b[36mDL\u001b[0m:70\u001b[38;5;135mMiB\u001b[0m\u001b[35m】\u001b[0m"
                ]
              },
              {
                "output_type": "stream",
                "name": "stdout",
                "text": [
                  "\n",
                  "  181b09|\u001b[38;5;35mOK\u001b[0m  |    70MiB/s|\u001b[38;5;208m/\u001b[0mcontent\u001b[38;5;208m/\u001b[0mForge\u001b[38;5;208m/\u001b[0mmodels\u001b[38;5;208m/\u001b[0mESRGAN\u001b[38;5;208m/\u001b[0m8x_NMKD-Superscale_150000_G.pth\n"
                ]
              },
              {
                "output_type": "stream",
                "name": "stdout",
                "text": [
                  "\r                                                                                                                                                                                                                                                                                                            \r \u001b[35m【\u001b[0m\u001b[36m#\u001b[0m\u001b[38;5;35mc040f7\u001b[0m 125\u001b[38;5;135mMiB\u001b[0m\u001b[35m/\u001b[0m127\u001b[38;5;135mMiB\u001b[0m\u001b[35m(\u001b[0m98%\u001b[35m)\u001b[0m \u001b[36mCN\u001b[0m:\u001b[38;5;208m4\u001b[0m \u001b[36mDL\u001b[0m:173\u001b[38;5;135mMiB\u001b[0m\u001b[35m】\u001b[0m"
                ]
              },
              {
                "output_type": "stream",
                "name": "stdout",
                "text": [
                  "\n",
                  "  c040f7|\u001b[38;5;35mOK\u001b[0m  |   114MiB/s|\u001b[38;5;208m/\u001b[0mcontent\u001b[38;5;208m/\u001b[0mForge\u001b[38;5;208m/\u001b[0mmodels\u001b[38;5;208m/\u001b[0mESRGAN\u001b[38;5;208m/\u001b[0m4x_RealisticRescaler_100000_G.pth\n"
                ]
              },
              {
                "output_type": "stream",
                "name": "stdout",
                "text": [
                  "  78239c|\u001b[38;5;35mOK\u001b[0m  |   118MiB/s|\u001b[38;5;208m/\u001b[0mcontent\u001b[38;5;208m/\u001b[0mForge\u001b[38;5;208m/\u001b[0mmodels\u001b[38;5;208m/\u001b[0mESRGAN\u001b[38;5;208m/\u001b[0m8x_RealESRGAN.pth\n"
                ]
              },
              {
                "output_type": "stream",
                "name": "stdout",
                "text": [
                  "\r                                                                                                                                                                                                                                                                                                            \r \u001b[35m【\u001b[0m\u001b[36m#\u001b[0m\u001b[38;5;35m1b43f9\u001b[0m 62\u001b[38;5;135mMiB\u001b[0m\u001b[35m/\u001b[0m63\u001b[38;5;135mMiB\u001b[0m\u001b[35m(\u001b[0m98%\u001b[35m)\u001b[0m \u001b[36mCN\u001b[0m:\u001b[38;5;208m2\u001b[0m \u001b[36mDL\u001b[0m:89\u001b[38;5;135mMiB\u001b[0m\u001b[35m】\u001b[0m"
                ]
              },
              {
                "output_type": "stream",
                "name": "stdout",
                "text": [
                  "\n",
                  "  1b43f9|\u001b[38;5;35mOK\u001b[0m  |    89MiB/s|\u001b[38;5;208m/\u001b[0mcontent\u001b[38;5;208m/\u001b[0mForge\u001b[38;5;208m/\u001b[0mmodels\u001b[38;5;208m/\u001b[0mESRGAN\u001b[38;5;208m/\u001b[0m4x_foolhardy_Remacri.pth\n"
                ]
              },
              {
                "output_type": "stream",
                "name": "stdout",
                "text": [
                  "\r                                                                                                                                                                                                                                                                                                            \r \u001b[35m【\u001b[0m\u001b[36m#\u001b[0m\u001b[38;5;35m229ffa\u001b[0m 62\u001b[38;5;135mMiB\u001b[0m\u001b[35m/\u001b[0m63\u001b[38;5;135mMiB\u001b[0m\u001b[35m(\u001b[0m98%\u001b[35m)\u001b[0m \u001b[36mCN\u001b[0m:\u001b[38;5;208m2\u001b[0m \u001b[36mDL\u001b[0m:90\u001b[38;5;135mMiB\u001b[0m\u001b[35m】\u001b[0m"
                ]
              },
              {
                "output_type": "stream",
                "name": "stdout",
                "text": [
                  "\n",
                  "  229ffa|\u001b[38;5;35mOK\u001b[0m  |    90MiB/s|\u001b[38;5;208m/\u001b[0mcontent\u001b[38;5;208m/\u001b[0mForge\u001b[38;5;208m/\u001b[0mmodels\u001b[38;5;208m/\u001b[0mESRGAN\u001b[38;5;208m/\u001b[0m4x_NMKD-YandereNeoXL_200k.pth\n"
                ]
              },
              {
                "output_type": "stream",
                "name": "stdout",
                "text": [
                  "  f9a442|\u001b[38;5;35mOK\u001b[0m  |   118MiB/s|\u001b[38;5;208m/\u001b[0mcontent\u001b[38;5;208m/\u001b[0mForge\u001b[38;5;208m/\u001b[0mmodels\u001b[38;5;208m/\u001b[0mESRGAN\u001b[38;5;208m/\u001b[0m4x_NMKD-UltraYandere_300k.pth\n"
                ]
              },
              {
                "output_type": "stream",
                "name": "stdout",
                "text": [
                  "  c12bc9|\u001b[38;5;35mOK\u001b[0m  |    30MiB/s|\u001b[38;5;208m/\u001b[0mcontent\u001b[38;5;208m/\u001b[0mForge\u001b[38;5;208m/\u001b[0mhtml\u001b[38;5;208m/\u001b[0mcard-no-preview.png\n"
                ]
              },
              {
                "output_type": "stream",
                "name": "stdout",
                "text": [
                  "  39fbca|\u001b[38;5;35mOK\u001b[0m  |    21MiB/s|\u001b[38;5;208m/\u001b[0mcontent\u001b[38;5;208m/\u001b[0mForge\u001b[38;5;208m/\u001b[0membeddingsXL.zip\n"
                ]
              },
              {
                "output_type": "stream",
                "name": "stdout",
                "text": [
                  "\r                                                                                                                                                                                                                                                                                                            \r \u001b[35m【\u001b[0m\u001b[36m#\u001b[0m\u001b[38;5;35mdb459e\u001b[0m 141\u001b[38;5;135mMiB\u001b[0m\u001b[35m/\u001b[0m319\u001b[38;5;135mMiB\u001b[0m\u001b[35m(\u001b[0m44%\u001b[35m)\u001b[0m \u001b[36mCN\u001b[0m:\u001b[38;5;208m16\u001b[0m \u001b[36mDL\u001b[0m:195\u001b[38;5;135mMiB\u001b[0m\u001b[35m】\u001b[0m"
                ]
              },
              {
                "output_type": "stream",
                "name": "stdout",
                "text": [
                  "\n",
                  "  db459e|\u001b[38;5;35mOK\u001b[0m  |   197MiB/s|\u001b[38;5;208m/\u001b[0mcontent\u001b[38;5;208m/\u001b[0mForge\u001b[38;5;208m/\u001b[0mmodels\u001b[38;5;208m/\u001b[0mVAE\u001b[38;5;208m/\u001b[0msdxl_vae.safetensors\n"
                ]
              },
              {
                "output_type": "display_data",
                "data": {
                  "text/plain": "<IPython.core.display.HTML object>",
                  "text/html": "<span style='color:red;'><br><b>【</span> <span style='color:d;'>Installing Extensions</span> <span style='color:red;'>】</span> <span></b></span>"
                },
                "metadata": {}
              },
              {
                "output_type": "stream",
                "name": "stdout",
                "text": [
                  "  4-adetailer ▶ https://github.com/Bing-su/adetailer\n"
                ]
              },
              {
                "output_type": "stream",
                "name": "stdout",
                "text": [
                  "  sd-webui-infinite-image-browsing ▶ https://github.com/zanllp/sd-webui-infinite-image-browsing\n"
                ]
              },
              {
                "output_type": "stream",
                "name": "stdout",
                "text": [
                  "  a1111-sd-webui-tagcomplete ▶ https://github.com/DominikDoom/a1111-sd-webui-tagcomplete\n"
                ]
              },
              {
                "output_type": "stream",
                "name": "stdout",
                "text": [
                  "  DWPose ▶ https://github.com/IDEA-Research/DWPose\n"
                ]
              },
              {
                "output_type": "stream",
                "name": "stdout",
                "text": [
                  "  sd-forge-layerdiffuse ▶ https://github.com/lllyasviel/sd-forge-layerdiffuse\n"
                ]
              },
              {
                "output_type": "stream",
                "name": "stdout",
                "text": [
                  "  sd-webui-supermerger ▶ https://github.com/hako-mikan/sd-webui-supermerger\n"
                ]
              },
              {
                "output_type": "stream",
                "name": "stdout",
                "text": [
                  "  sd-hub ▶ https://github.com/gutris1/sd-hub\n"
                ]
              },
              {
                "output_type": "stream",
                "name": "stdout",
                "text": [
                  "  sd-image-viewer ▶ https://github.com/gutris1/sd-image-viewer\n"
                ]
              },
              {
                "output_type": "stream",
                "name": "stdout",
                "text": [
                  "  sd-image-info ▶ https://github.com/gutris1/sd-image-info\n"
                ]
              },
              {
                "output_type": "stream",
                "name": "stdout",
                "text": [
                  "  Scroll-Bar ▶ https://github.com/gutris1/Scroll-Bar\n"
                ]
              },
              {
                "output_type": "stream",
                "name": "stdout",
                "text": [
                  "  timer_timer ▶ https://github.com/gutris1/timer_timer\n"
                ]
              },
              {
                "output_type": "stream",
                "name": "stdout",
                "text": [
                  "  sd-simple-dimension-preset ▶ https://github.com/gutris1/sd-simple-dimension-preset\n"
                ]
              },
              {
                "output_type": "stream",
                "name": "stdout",
                "text": [
                  "  sd-civitai-browser-plus ▶ https://github.com/BlafKing/sd-civitai-browser-plus\n"
                ]
              }
            ]
          }
        },
        "7804934fb5c642da89517ff351f857d6": {
          "model_module": "@jupyter-widgets/base",
          "model_name": "LayoutModel",
          "model_module_version": "1.2.0",
          "state": {
            "_model_module": "@jupyter-widgets/base",
            "_model_module_version": "1.2.0",
            "_model_name": "LayoutModel",
            "_view_count": null,
            "_view_module": "@jupyter-widgets/base",
            "_view_module_version": "1.2.0",
            "_view_name": "LayoutView",
            "align_content": null,
            "align_items": null,
            "align_self": null,
            "border": null,
            "bottom": null,
            "display": null,
            "flex": null,
            "flex_flow": null,
            "grid_area": null,
            "grid_auto_columns": null,
            "grid_auto_flow": null,
            "grid_auto_rows": null,
            "grid_column": null,
            "grid_gap": null,
            "grid_row": null,
            "grid_template_areas": null,
            "grid_template_columns": null,
            "grid_template_rows": null,
            "height": null,
            "justify_content": null,
            "justify_items": null,
            "left": null,
            "margin": null,
            "max_height": null,
            "max_width": null,
            "min_height": null,
            "min_width": null,
            "object_fit": null,
            "object_position": null,
            "order": null,
            "overflow": null,
            "overflow_x": null,
            "overflow_y": null,
            "padding": null,
            "right": null,
            "top": null,
            "visibility": null,
            "width": null
          }
        },
        "b940036516844a56a64aee024817cbb6": {
          "model_module": "@jupyter-widgets/output",
          "model_name": "OutputModel",
          "model_module_version": "1.0.0",
          "state": {
            "_dom_classes": [],
            "_model_module": "@jupyter-widgets/output",
            "_model_module_version": "1.0.0",
            "_model_name": "OutputModel",
            "_view_count": null,
            "_view_module": "@jupyter-widgets/output",
            "_view_module_version": "1.0.0",
            "_view_name": "OutputView",
            "layout": "IPY_MODEL_a6fea691797c43dfbb997839369d3c59",
            "msg_id": "",
            "outputs": [
              {
                "output_type": "display_data",
                "data": {
                  "text/plain": "<IPython.core.display.HTML object>",
                  "text/html": "<span style='color:red;'><br><b>【</span> <span style='color:d;'>Done</span> <span style='color:red;'>】</span> <span></b></span>"
                },
                "metadata": {}
              }
            ]
          }
        },
        "a6fea691797c43dfbb997839369d3c59": {
          "model_module": "@jupyter-widgets/base",
          "model_name": "LayoutModel",
          "model_module_version": "1.2.0",
          "state": {
            "_model_module": "@jupyter-widgets/base",
            "_model_module_version": "1.2.0",
            "_model_name": "LayoutModel",
            "_view_count": null,
            "_view_module": "@jupyter-widgets/base",
            "_view_module_version": "1.2.0",
            "_view_name": "LayoutView",
            "align_content": null,
            "align_items": null,
            "align_self": null,
            "border": null,
            "bottom": null,
            "display": null,
            "flex": null,
            "flex_flow": null,
            "grid_area": null,
            "grid_auto_columns": null,
            "grid_auto_flow": null,
            "grid_auto_rows": null,
            "grid_column": null,
            "grid_gap": null,
            "grid_row": null,
            "grid_template_areas": null,
            "grid_template_columns": null,
            "grid_template_rows": null,
            "height": null,
            "justify_content": null,
            "justify_items": null,
            "left": null,
            "margin": null,
            "max_height": null,
            "max_width": null,
            "min_height": null,
            "min_width": null,
            "object_fit": null,
            "object_position": null,
            "order": null,
            "overflow": null,
            "overflow_x": null,
            "overflow_y": null,
            "padding": null,
            "right": null,
            "top": null,
            "visibility": null,
            "width": null
          }
        }
      }
    }
  },
  "cells": [
    {
      "cell_type": "code",
      "execution_count": 1,
      "metadata": {
        "id": "tQqllRM-MCnT",
        "outputId": "d36f2392-9838-4287-8878-a5fbaa0c0a0d",
        "colab": {
          "base_uri": "https://localhost:8080/",
          "height": 920,
          "referenced_widgets": [
            "5899eb883bc444ffbf58adeb9e8937c1",
            "7804934fb5c642da89517ff351f857d6",
            "b940036516844a56a64aee024817cbb6",
            "a6fea691797c43dfbb997839369d3c59"
          ]
        }
      },
      "outputs": [
        {
          "output_type": "display_data",
          "data": {
            "text/plain": [
              "Output()"
            ],
            "application/vnd.jupyter.widget-view+json": {
              "version_major": 2,
              "version_minor": 0,
              "model_id": "5899eb883bc444ffbf58adeb9e8937c1"
            }
          },
          "metadata": {}
        },
        {
          "output_type": "display_data",
          "data": {
            "text/plain": [
              "Output()"
            ],
            "application/vnd.jupyter.widget-view+json": {
              "version_major": 2,
              "version_minor": 0,
              "model_id": "b940036516844a56a64aee024817cbb6"
            }
          },
          "metadata": {}
        }
      ],
      "source": [
        "# @title WebUI Installer {\"display-mode\":\"form\"}\n",
        "\n",
        "ui = 'Forge' # @param [\"A1111\", \"Forge\", \"ComfyUI\", \"ReForge\", \"SwarmUI\"]\n",
        "sd = 'XL' # @param [\"1.5\", \"XL\"]\n",
        "civitai___key = '77b32ae5ce27aec99ea7aece6927cc1c' # @param {type:\"string\", placeholder:\"your Civitai API key\"}\n",
        "hf_read_token = '' # @param {type:\"string\", placeholder:\"your Huggingface READ token (optional)\"}\n",
        "\n",
        "!curl -sLo /content/setup.py https://github.com/gutris1/segsmaker/raw/main/script/KC/setup.py\n",
        "%run /content/setup.py --webui=\"$ui\" --sd=\"$sd\" --civitai_key=\"$civitai___key\" --hf_read_token=\"$hf_read_token\""
      ]
    },
    {
      "cell_type": "markdown",
      "source": [
        "## Launcher\n",
        "args list :\n",
        "-  **A1111** = `--xformers`\n",
        "- **Forge** = `--disable-xformers --opt-sdp-attention --cuda-stream --pin-shared-memory`\n",
        "- **ComfyUI** = `--dont-print-server --preview-method auto --use-pytorch-cross-attention`\n",
        "- **ReForge** = `--xformers --cuda-stream --pin-shared-memory`\n",
        "- **SwarmUI** = `--launch_mode none`\n",
        "<br><br>\n",
        "\n",
        "For ComfyUI, add `--skip-comfyui-check` to skip checking custom node dependencies\n",
        "\n",
        "Add **--N=ngrok_token** to start NGROK tunnel<br>\n",
        "Add **--Z=zrok_token** to start ZROK tunnel"
      ],
      "metadata": {
        "id": "BB8pCZnrQnR9"
      }
    }
  ]
}