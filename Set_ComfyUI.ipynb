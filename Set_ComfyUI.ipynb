{
  "cells": [
    {
      "cell_type": "code",
      "execution_count": null,
      "metadata": {
        "id": "tQqllRM-MCnT",
        "cellView": "code",
        "outputId": "36d1ae6f-fe8f-4d98-faca-e80452cad09f",
        "colab": {
          "base_uri": "https://localhost:8080/",
          "height": 120,
          "referenced_widgets": [
            "7971505807994f1a939bb45f4d072c47",
            "b9997e9fadc142e8839482e5fc3517cb",
            "cfa9d63c05f947a0adcc8a097942f926",
            "784fc0da400445459bc438432ec706f3"
          ]
        }
      },
      "outputs": [
        {
          "output_type": "display_data",
          "data": {
            "text/plain": [
              "Output()"
            ],
            "application/vnd.jupyter.widget-view+json": {
              "version_major": 2,
              "version_minor": 0,
              "model_id": "7971505807994f1a939bb45f4d072c47"
            }
          },
          "metadata": {}
        },
        {
          "output_type": "display_data",
          "data": {
            "text/plain": [
              "Output()"
            ],
            "application/vnd.jupyter.widget-view+json": {
              "version_major": 2,
              "version_minor": 0,
              "model_id": "cfa9d63c05f947a0adcc8a097942f926"
            }
          },
          "metadata": {}
        }
      ],
      "source": [
        "\n",
        "import zipfile\n",
        "import os\n",
        "from IPython.utils.io import capture_output\n",
        "from IPython.display import HTML, display, clear_output\n",
        "Webui = 'ComfyUI' # @param [\"A1111\", \"Forge\", \"ReForge\", \"Forge-Classic\", \"ComfyUI\", \"SwarmUI\"]\n",
        "Civitai___Key = '46a9c27b5717fe802962c3890ba3b0a9' # @param { type: \"string\", placeholder: \"Your Civitai API Key (required)\" }\n",
        "HF_Read_Token = '' # @param { type: \"string\", placeholder: \"Your Huggingface READ Token (optional)\" }\n",
        "\n",
        "\n",
        "!curl -sLo /content/setup.py https://github.com/gutris1/segsmaker/raw/main/script/KC/setup.py\n",
        "%run /content/setup.py --webui=\"$Webui\" --civitai_key=\"$Civitai___Key\" --hf_read_token=\"$HF_Read_Token\"\n"
      ]
    }
  ],
  "metadata": {
    "accelerator": "GPU",
    "colab": {
      "gpuType": "T4",
      "provenance": []
    },
    "kernelspec": {
      "display_name": "Python 3",
      "name": "python3"
    },
    "language_info": {
      "name": "python"
    },
    "widgets": {
      "application/vnd.jupyter.widget-state+json": {
        "7971505807994f1a939bb45f4d072c47": {
          "model_module": "@jupyter-widgets/output",
          "model_name": "OutputModel",
          "model_module_version": "1.0.0",
          "state": {
            "_dom_classes": [],
            "_model_module": "@jupyter-widgets/output",
            "_model_module_version": "1.0.0",
            "_model_name": "OutputModel",
            "_view_count": null,
            "_view_module": "@jupyter-widgets/output",
            "_view_module_version": "1.0.0",
            "_view_name": "OutputView",
            "layout": "IPY_MODEL_b9997e9fadc142e8839482e5fc3517cb",
            "msg_id": "49be959c-c4fe-4646-9bd0-89f9ef9a15fc",
            "outputs": [
              {
                "output_type": "stream",
                "name": "stdout",
                "text": [
                  "\n",
                  "\u001b[38;5;208m▶\u001b[0m installing Python Portable 3.10.15\n"
                ]
              },
              {
                "output_type": "stream",
                "name": "stdout",
                "text": [
                  " 133MiB 0:00:01 [ 130MiB/s] [>                                 ]  2% ETA 0:00:37\r"
                ]
              },
              {
                "output_type": "stream",
                "name": "stdout",
                "text": [
                  " 209MiB 0:00:02 [78.4MiB/s] [>                                 ]  4% ETA 0:00:47\r"
                ]
              },
              {
                "output_type": "stream",
                "name": "stdout",
                "text": [
                  " 275MiB 0:00:04 [22.2MiB/s] [>                                 ]  5% ETA 0:01:11\r 275MiB 0:00:04 [22.2MiB/s] [>                                 ]  5% ETA 0:01:11\r"
                ]
              },
              {
                "output_type": "stream",
                "name": "stdout",
                "text": [
                  " 278MiB 0:00:06 [1.74MiB/s] [>                                 ]  5% ETA 0:01:45\r"
                ]
              },
              {
                "output_type": "stream",
                "name": "stdout",
                "text": [
                  " 377MiB 0:00:06 [ 190MiB/s] [=>                                ]  7% ETA 0:01:16\r"
                ]
              },
              {
                "output_type": "stream",
                "name": "stdout",
                "text": [
                  " 467MiB 0:00:07 [91.5MiB/s] [==>                               ]  9% ETA 0:01:10\r"
                ]
              },
              {
                "output_type": "stream",
                "name": "stdout",
                "text": [
                  " 543MiB 0:00:08 [74.3MiB/s] [==>                               ] 10% ETA 0:01:08\r"
                ]
              },
              {
                "output_type": "stream",
                "name": "stdout",
                "text": [
                  " 628MiB 0:00:10 [81.7MiB/s] [===>                              ] 12% ETA 0:01:12\r"
                ]
              },
              {
                "output_type": "stream",
                "name": "stdout",
                "text": [
                  " 727MiB 0:00:10 [ 104MiB/s] [===>                              ] 14% ETA 0:01:01\r"
                ]
              },
              {
                "output_type": "stream",
                "name": "stdout",
                "text": [
                  " 838MiB 0:00:11 [ 111MiB/s] [====>                             ] 16% ETA 0:00:56\r"
                ]
              },
              {
                "output_type": "stream",
                "name": "stdout",
                "text": [
                  " 988MiB 0:00:12 [ 149MiB/s] [=====>                            ] 19% ETA 0:00:50\r"
                ]
              },
              {
                "output_type": "stream",
                "name": "stdout",
                "text": [
                  "1.13GiB 0:00:13 [ 162MiB/s] [======>                           ] 22% ETA 0:00:45\r"
                ]
              },
              {
                "output_type": "stream",
                "name": "stdout",
                "text": [
                  "1.27GiB 0:00:14 [ 151MiB/s] [=======>                          ] 25% ETA 0:00:41\r"
                ]
              }
            ]
          }
        },
        "b9997e9fadc142e8839482e5fc3517cb": {
          "model_module": "@jupyter-widgets/base",
          "model_name": "LayoutModel",
          "model_module_version": "1.2.0",
          "state": {
            "_model_module": "@jupyter-widgets/base",
            "_model_module_version": "1.2.0",
            "_model_name": "LayoutModel",
            "_view_count": null,
            "_view_module": "@jupyter-widgets/base",
            "_view_module_version": "1.2.0",
            "_view_name": "LayoutView",
            "align_content": null,
            "align_items": null,
            "align_self": null,
            "border": null,
            "bottom": null,
            "display": null,
            "flex": null,
            "flex_flow": null,
            "grid_area": null,
            "grid_auto_columns": null,
            "grid_auto_flow": null,
            "grid_auto_rows": null,
            "grid_column": null,
            "grid_gap": null,
            "grid_row": null,
            "grid_template_areas": null,
            "grid_template_columns": null,
            "grid_template_rows": null,
            "height": null,
            "justify_content": null,
            "justify_items": null,
            "left": null,
            "margin": null,
            "max_height": null,
            "max_width": null,
            "min_height": null,
            "min_width": null,
            "object_fit": null,
            "object_position": null,
            "order": null,
            "overflow": null,
            "overflow_x": null,
            "overflow_y": null,
            "padding": null,
            "right": null,
            "top": null,
            "visibility": null,
            "width": null
          }
        },
        "cfa9d63c05f947a0adcc8a097942f926": {
          "model_module": "@jupyter-widgets/output",
          "model_name": "OutputModel",
          "model_module_version": "1.0.0",
          "state": {
            "_dom_classes": [],
            "_model_module": "@jupyter-widgets/output",
            "_model_module_version": "1.0.0",
            "_model_name": "OutputModel",
            "_view_count": null,
            "_view_module": "@jupyter-widgets/output",
            "_view_module_version": "1.0.0",
            "_view_name": "OutputView",
            "layout": "IPY_MODEL_784fc0da400445459bc438432ec706f3",
            "msg_id": "",
            "outputs": [
              {
                "output_type": "display_data",
                "data": {
                  "text/html": "<img src=\"https://github.com/gutris1/segsmaker/raw/main/script/loading.png\"/>",
                  "text/plain": "<IPython.core.display.Image object>"
                },
                "metadata": {}
              }
            ]
          }
        },
        "784fc0da400445459bc438432ec706f3": {
          "model_module": "@jupyter-widgets/base",
          "model_name": "LayoutModel",
          "model_module_version": "1.2.0",
          "state": {
            "_model_module": "@jupyter-widgets/base",
            "_model_module_version": "1.2.0",
            "_model_name": "LayoutModel",
            "_view_count": null,
            "_view_module": "@jupyter-widgets/base",
            "_view_module_version": "1.2.0",
            "_view_name": "LayoutView",
            "align_content": null,
            "align_items": null,
            "align_self": null,
            "border": null,
            "bottom": null,
            "display": null,
            "flex": null,
            "flex_flow": null,
            "grid_area": null,
            "grid_auto_columns": null,
            "grid_auto_flow": null,
            "grid_auto_rows": null,
            "grid_column": null,
            "grid_gap": null,
            "grid_row": null,
            "grid_template_areas": null,
            "grid_template_columns": null,
            "grid_template_rows": null,
            "height": null,
            "justify_content": null,
            "justify_items": null,
            "left": null,
            "margin": null,
            "max_height": null,
            "max_width": null,
            "min_height": null,
            "min_width": null,
            "object_fit": null,
            "object_position": null,
            "order": null,
            "overflow": null,
            "overflow_x": null,
            "overflow_y": null,
            "padding": null,
            "right": null,
            "top": null,
            "visibility": null,
            "width": null
          }
        }
      }
    }
  },
  "nbformat": 4,
  "nbformat_minor": 0
}